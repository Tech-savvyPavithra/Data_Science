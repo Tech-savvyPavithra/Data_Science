{
  "nbformat": 4,
  "nbformat_minor": 0,
  "metadata": {
    "colab": {
      "provenance": [],
      "authorship_tag": "ABX9TyPeEdYabxhmOPS35+7sVg/0",
      "include_colab_link": true
    },
    "kernelspec": {
      "name": "python3",
      "display_name": "Python 3"
    },
    "language_info": {
      "name": "python"
    }
  },
  "cells": [
    {
      "cell_type": "markdown",
      "metadata": {
        "id": "view-in-github",
        "colab_type": "text"
      },
      "source": [
        "<a href=\"https://colab.research.google.com/github/Tech-savvyPavithra/Data_Science/blob/main/Automated_Mindmap_Generator.ipynb\" target=\"_parent\"><img src=\"https://colab.research.google.com/assets/colab-badge.svg\" alt=\"Open In Colab\"/></a>"
      ]
    },
    {
      "cell_type": "code",
      "execution_count": null,
      "metadata": {
        "colab": {
          "base_uri": "https://localhost:8080/"
        },
        "id": "CUB7mVbrEbMt",
        "outputId": "b6537de9-2111-455f-9f69-5cc9d3cd0bd7"
      },
      "outputs": [
        {
          "output_type": "stream",
          "name": "stdout",
          "text": [
            "Requirement already satisfied: graphviz in /usr/local/lib/python3.10/dist-packages (0.20.3)\n"
          ]
        }
      ],
      "source": [
        "pip install graphviz"
      ]
    },
    {
      "cell_type": "code",
      "source": [
        "from graphviz import Digraph\n",
        "\n",
        "# Create a new directed graph with the neato layout for a circular arrangement\n",
        "dot = Digraph(engine='neato')\n",
        "\n",
        "# Global graph attributes for circular layout and node spacing\n",
        "dot.attr(overlap='false', splines='true')\n",
        "dot.attr(size='10,10')  # Adjust this size as needed\n",
        "dot.attr(margin='0.1')\n",
        "dot.attr(nodesep='0.5', ranksep='1')\n",
        "\n",
        "# Central Node\n",
        "dot.node('A', 'TRAIL ROOM (Virtual Try-On Experience)', shape='circle', style='filled', color='lightblue')\n",
        "\n",
        "# User Experience\n",
        "dot.node('B', 'User Experience', shape='ellipse', style='filled', color='lightcoral')\n",
        "dot.edge('A', 'B')\n",
        "\n",
        "# Interface Design\n",
        "dot.node('B1', 'Interface Design', shape='box', style='filled', color='lightyellow')\n",
        "dot.edge('B', 'B1')\n",
        "dot.node('B1a', 'Visual Appeal', shape='box', style='filled', color='lightgrey')\n",
        "dot.edge('B1', 'B1a')\n",
        "dot.node('B1b', 'Navigation', shape='box', style='filled', color='lightgrey')\n",
        "dot.edge('B1', 'B1b')\n",
        "dot.node('B1c', 'Customization', shape='box', style='filled', color='lightgrey')\n",
        "dot.edge('B1', 'B1c')\n",
        "\n",
        "# Ease of Use\n",
        "dot.node('B2', 'Ease of Use', shape='box', style='filled', color='lightyellow')\n",
        "dot.edge('B', 'B2')\n",
        "dot.node('B2a', 'Onboarding', shape='box', style='filled', color='lightgrey')\n",
        "dot.edge('B2', 'B2a')\n",
        "dot.node('B2b', 'Accessibility', shape='box', style='filled', color='lightgrey')\n",
        "dot.edge('B2', 'B2b')\n",
        "dot.node('B2c', 'Performance', shape='box', style='filled', color='lightgrey')\n",
        "dot.edge('B2', 'B2c')\n",
        "\n",
        "# Interactive Elements\n",
        "dot.node('B3', 'Interactive Elements', shape='box', style='filled', color='lightyellow')\n",
        "dot.edge('B', 'B3')\n",
        "dot.node('B3a', 'Real-Time Feedback', shape='box', style='filled', color='lightgrey')\n",
        "dot.edge('B3', 'B3a')\n",
        "dot.node('B3b', 'Social Features', shape='box', style='filled', color='lightgrey')\n",
        "dot.edge('B3', 'B3b')\n",
        "dot.node('B3c', 'Customization Tools', shape='box', style='filled', color='lightgrey')\n",
        "dot.edge('B3', 'B3c')\n",
        "\n",
        "# Technology\n",
        "dot.node('C', 'Technology', shape='ellipse', style='filled', color='lightgreen')\n",
        "dot.edge('A', 'C')\n",
        "\n",
        "# Algorithms\n",
        "dot.node('C1', 'Algorithms', shape='box', style='filled', color='lightyellow')\n",
        "dot.edge('C', 'C1')\n",
        "dot.node('C1a', 'Fit Algorithms', shape='box', style='filled', color='lightgrey')\n",
        "dot.edge('C1', 'C1a')\n",
        "dot.node('C1b', 'Recommendation Systems', shape='box', style='filled', color='lightgrey')\n",
        "dot.edge('C1', 'C1b')\n",
        "\n",
        "# Augmented Reality (AR)\n",
        "dot.node('C2', 'Augmented Reality (AR)', shape='box', style='filled', color='lightyellow')\n",
        "dot.edge('C', 'C2')\n",
        "dot.node('C2a', 'Realistic Rendering', shape='box', style='filled', color='lightgrey')\n",
        "dot.edge('C2', 'C2a')\n",
        "dot.node('C2b', 'Environment Interaction', shape='box', style='filled', color='lightgrey')\n",
        "dot.edge('C2', 'C2b')\n",
        "\n",
        "# 3D Modeling\n",
        "dot.node('C3', '3D Modeling', shape='box', style='filled', color='lightyellow')\n",
        "dot.edge('C', 'C3')\n",
        "dot.node('C3a', 'Avatar Creation', shape='box', style='filled', color='lightgrey')\n",
        "dot.edge('C3', 'C3a')\n",
        "dot.node('C3b', 'Garment Simulation', shape='box', style='filled', color='lightgrey')\n",
        "dot.edge('C3', 'C3b')\n",
        "\n",
        "# Machine Learning\n",
        "dot.node('C4', 'Machine Learning', shape='box', style='filled', color='lightyellow')\n",
        "dot.edge('C', 'C4')\n",
        "dot.node('C4a', 'Fit Prediction', shape='box', style='filled', color='lightgrey')\n",
        "dot.edge('C4', 'C4a')\n",
        "dot.node('C4b', 'Pattern Recognition', shape='box', style='filled', color='lightgrey')\n",
        "dot.edge('C4', 'C4b')\n",
        "\n",
        "# Integration\n",
        "dot.node('D', 'Integration', shape='ellipse', style='filled', color='lightpink')\n",
        "dot.edge('A', 'D')\n",
        "\n",
        "# APIs\n",
        "dot.node('D1', 'APIs', shape='box', style='filled', color='lightyellow')\n",
        "dot.edge('D', 'D1')\n",
        "dot.node('D1a', 'E-Commerce Platforms', shape='box', style='filled', color='lightgrey')\n",
        "dot.edge('D1', 'D1a')\n",
        "dot.node('D1b', 'Payment Systems', shape='box', style='filled', color='lightgrey')\n",
        "dot.edge('D1', 'D1b')\n",
        "dot.node('D1c', 'Social Media', shape='box', style='filled', color='lightgrey')\n",
        "dot.edge('D1', 'D1c')\n",
        "\n",
        "# Partnerships\n",
        "dot.node('D2', 'Partnerships', shape='box', style='filled', color='lightyellow')\n",
        "dot.edge('D', 'D2')\n",
        "dot.node('D2a', 'Retailers and Brands', shape='box', style='filled', color='lightgrey')\n",
        "dot.edge('D2', 'D2a')\n",
        "dot.node('D2b', 'Technology Providers', shape='box', style='filled', color='lightgrey')\n",
        "dot.edge('D2', 'D2b')\n",
        "dot.node('D2c', 'Fashion Influencers', shape='box', style='filled', color='lightgrey')\n",
        "dot.edge('D2', 'D2c')\n",
        "\n",
        "# Marketing\n",
        "dot.node('E', 'Marketing', shape='ellipse', style='filled', color='lavender')\n",
        "dot.edge('A', 'E')\n",
        "\n",
        "# Target Audiences\n",
        "dot.node('E1', 'Target Audiences', shape='box', style='filled', color='lightyellow')\n",
        "dot.edge('E', 'E1')\n",
        "dot.node('E1a', 'Demographics', shape='box', style='filled', color='lightgrey')\n",
        "dot.edge('E1', 'E1a')\n",
        "dot.node('E1b', 'Behavioral Segments', shape='box', style='filled', color='lightgrey')\n",
        "dot.edge('E1', 'E1b')\n",
        "\n",
        "# Branding\n",
        "dot.node('E2', 'Branding', shape='box', style='filled', color='lightyellow')\n",
        "dot.edge('E', 'E2')\n",
        "dot.node('E2a', 'Positioning', shape='box', style='filled', color='lightgrey')\n",
        "dot.edge('E2', 'E2a')\n",
        "dot.node('E2b', 'Visual Identity', shape='box', style='filled', color='lightgrey')\n",
        "dot.edge('E2', 'E2b')\n",
        "dot.node('E2c', 'Value Proposition', shape='box', style='filled', color='lightgrey')\n",
        "dot.edge('E2', 'E2c')\n",
        "\n",
        "# Communication Strategies\n",
        "dot.node('E3', 'Communication Strategies', shape='box', style='filled', color='lightyellow')\n",
        "dot.edge('E', 'E3')\n",
        "dot.node('E3a', 'Content Marketing', shape='box', style='filled', color='lightgrey')\n",
        "dot.edge('E3', 'E3a')\n",
        "dot.node('E3b', 'Advertising', shape='box', style='filled', color='lightgrey')\n",
        "dot.edge('E3', 'E3b')\n",
        "dot.node('E3c', 'Customer Engagement', shape='box', style='filled', color='lightgrey')\n",
        "dot.edge('E3', 'E3c')\n",
        "\n",
        "# Challenges\n",
        "dot.node('F', 'Challenges', shape='ellipse', style='filled', color='orange')\n",
        "dot.edge('A', 'F')\n",
        "\n",
        "# Data Privacy\n",
        "dot.node('F1', 'Data Privacy', shape='box', style='filled', color='lightyellow')\n",
        "dot.edge('F', 'F1')\n",
        "dot.node('F1a', 'User Consent', shape='box', style='filled', color='lightgrey')\n",
        "dot.edge('F1', 'F1a')\n",
        "dot.node('F1b', 'Security Measures', shape='box', style='filled', color='lightgrey')\n",
        "dot.edge('F1', 'F1b')\n",
        "\n",
        "# Technical Limitations\n",
        "dot.node('F2', 'Technical Limitations', shape='box', style='filled', color='lightyellow')\n",
        "dot.edge('F', 'F2')\n",
        "dot.node('F2a', 'Hardware Requirements', shape='box', style='filled', color='lightgrey')\n",
        "dot.edge('F2', 'F2a')\n",
        "dot.node('F2b', 'Internet Connectivity', shape='box', style='filled', color='lightgrey')\n",
        "dot.edge('F2', 'F2b')\n",
        "\n",
        "# User Adoption\n",
        "dot.node('F3', 'User Adoption', shape='box', style='filled', color='lightyellow')\n",
        "dot.edge('F', 'F3')\n",
        "dot.node('F3a', 'Learning Curve', shape='box', style='filled', color='lightgrey')\n",
        "dot.edge('F3', 'F3a')\n",
        "dot.node('F3b', 'Resistance to Change', shape='box', style='filled', color='lightgrey')\n",
        "dot.edge('F3', 'F3b')\n",
        "\n",
        "# Generate and render the mind map\n",
        "dot.render('virtual_try_on_mind_map_circular', format='png', cleanup=True)\n"
      ],
      "metadata": {
        "colab": {
          "base_uri": "https://localhost:8080/",
          "height": 35
        },
        "id": "poH3XcylI7Kg",
        "outputId": "2e6a7282-0fe6-4d3b-9af1-8c990b192c1b"
      },
      "execution_count": null,
      "outputs": [
        {
          "output_type": "execute_result",
          "data": {
            "text/plain": [
              "'virtual_try_on_mind_map_circular.png'"
            ],
            "application/vnd.google.colaboratory.intrinsic+json": {
              "type": "string"
            }
          },
          "metadata": {},
          "execution_count": 10
        }
      ]
    }
  ]
}