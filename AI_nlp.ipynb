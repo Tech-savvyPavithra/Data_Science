{
  "nbformat": 4,
  "nbformat_minor": 0,
  "metadata": {
    "colab": {
      "provenance": [],
      "include_colab_link": true
    },
    "kernelspec": {
      "name": "python3",
      "display_name": "Python 3"
    },
    "language_info": {
      "name": "python"
    }
  },
  "cells": [
    {
      "cell_type": "markdown",
      "metadata": {
        "id": "view-in-github",
        "colab_type": "text"
      },
      "source": [
        "<a href=\"https://colab.research.google.com/github/Tech-savvyPavithra/Data_Science/blob/main/AI_nlp.ipynb\" target=\"_parent\"><img src=\"https://colab.research.google.com/assets/colab-badge.svg\" alt=\"Open In Colab\"/></a>"
      ]
    },
    {
      "cell_type": "code",
      "execution_count": null,
      "metadata": {
        "colab": {
          "base_uri": "https://localhost:8080/"
        },
        "id": "tBvkvjKbhPgo",
        "outputId": "8873a045-8156-4bcd-9feb-ef1d8a7324f7"
      },
      "outputs": [
        {
          "output_type": "stream",
          "name": "stdout",
          "text": [
            "Requirement already satisfied: nltk in /usr/local/lib/python3.10/dist-packages (3.8.1)\n",
            "Requirement already satisfied: click in /usr/local/lib/python3.10/dist-packages (from nltk) (8.1.7)\n",
            "Requirement already satisfied: joblib in /usr/local/lib/python3.10/dist-packages (from nltk) (1.4.2)\n",
            "Requirement already satisfied: regex>=2021.8.3 in /usr/local/lib/python3.10/dist-packages (from nltk) (2023.12.25)\n",
            "Requirement already satisfied: tqdm in /usr/local/lib/python3.10/dist-packages (from nltk) (4.66.4)\n"
          ]
        }
      ],
      "source": [
        "pip install nltk"
      ]
    },
    {
      "cell_type": "code",
      "source": [
        "import nltk"
      ],
      "metadata": {
        "id": "jRKVte-2hWQf"
      },
      "execution_count": null,
      "outputs": []
    },
    {
      "cell_type": "code",
      "source": [
        "nltk.download('punkt')"
      ],
      "metadata": {
        "colab": {
          "base_uri": "https://localhost:8080/"
        },
        "id": "_AR7jEPjhWSA",
        "outputId": "2820eaff-d5cd-4499-ca1f-285f01ee8e26"
      },
      "execution_count": null,
      "outputs": [
        {
          "output_type": "stream",
          "name": "stderr",
          "text": [
            "[nltk_data] Downloading package punkt to /root/nltk_data...\n",
            "[nltk_data]   Unzipping tokenizers/punkt.zip.\n"
          ]
        },
        {
          "output_type": "execute_result",
          "data": {
            "text/plain": [
              "True"
            ]
          },
          "metadata": {},
          "execution_count": 11
        }
      ]
    },
    {
      "cell_type": "code",
      "source": [
        " from nltk.tokenize import sent_tokenize, word_tokenize"
      ],
      "metadata": {
        "id": "MADCpy3Ui_uG"
      },
      "execution_count": null,
      "outputs": []
    },
    {
      "cell_type": "code",
      "source": [
        "a=[1,2,3]\n",
        "a"
      ],
      "metadata": {
        "colab": {
          "base_uri": "https://localhost:8080/"
        },
        "id": "H2VWC4puGuaD",
        "outputId": "c96ecc04-6112-443f-858e-a329b76a74e7"
      },
      "execution_count": null,
      "outputs": [
        {
          "output_type": "execute_result",
          "data": {
            "text/plain": [
              "[1, 2, 3]"
            ]
          },
          "metadata": {},
          "execution_count": 6
        }
      ]
    },
    {
      "cell_type": "markdown",
      "source": [
        "Sentence tokenizer"
      ],
      "metadata": {
        "id": "iPbriL1whnEK"
      }
    },
    {
      "cell_type": "code",
      "source": [
        "import nltk\n",
        "\n",
        "text = \"This is a sentence. This is another sentence.\"\n",
        "\n",
        "# Tokenize the sentences\n",
        "sentences = nltk.sent_tokenize(text)\n",
        "print(sentences)\n",
        "print(\"No.of tokens sentences:\",len(sentences))"
      ],
      "metadata": {
        "colab": {
          "base_uri": "https://localhost:8080/"
        },
        "id": "oUWvMWd8hsIr",
        "outputId": "f8adbebd-a360-4370-83c4-0d19c95b9a34"
      },
      "execution_count": null,
      "outputs": [
        {
          "output_type": "stream",
          "name": "stdout",
          "text": [
            "['This is a sentence.', 'This is another sentence.']\n",
            "No.of tokens sentences: 2\n"
          ]
        }
      ]
    },
    {
      "cell_type": "markdown",
      "source": [
        "Word tokenizer"
      ],
      "metadata": {
        "id": "VepEEaXlhv27"
      }
    },
    {
      "cell_type": "code",
      "source": [
        "from nltk.tokenize import word_tokenize\n",
        "text = \"i feel happy now! I got a chance universal.\"\n",
        "x=print(word_tokenize(text))\n",
        "print(\"No.of token_words:\",len(word_tokenize(text)))"
      ],
      "metadata": {
        "colab": {
          "base_uri": "https://localhost:8080/"
        },
        "id": "wQs_Po2FhuR3",
        "outputId": "2aa1f365-dd32-4782-cd54-84ce8acc66ae"
      },
      "execution_count": null,
      "outputs": [
        {
          "output_type": "stream",
          "name": "stdout",
          "text": [
            "['i', 'feel', 'happy', 'now', '!', 'I', 'got', 'a', 'chance', 'universal', '.']\n",
            "No.of token_words: 11\n"
          ]
        }
      ]
    },
    {
      "cell_type": "code",
      "source": [
        "from nltk.tokenize import TreebankWordTokenizer\n",
        "text=\"isn't working . Mr . Colab 0oF\"\n",
        "tokenizer=TreebankWordTokenizer()\n",
        "tokenizer.tokenize(text)"
      ],
      "metadata": {
        "colab": {
          "base_uri": "https://localhost:8080/"
        },
        "id": "EkkJDSSMlS5Z",
        "outputId": "1a575953-251f-4c73-d80a-a4058fed4fd4"
      },
      "execution_count": null,
      "outputs": [
        {
          "output_type": "execute_result",
          "data": {
            "text/plain": [
              "['is', \"n't\", 'working', '.', 'Mr', '.', 'Colab', '0oF']"
            ]
          },
          "metadata": {},
          "execution_count": 7
        }
      ]
    },
    {
      "cell_type": "markdown",
      "source": [
        "Normalization"
      ],
      "metadata": {
        "id": "gEXhWsTLoAKN"
      }
    },
    {
      "cell_type": "code",
      "source": [
        "from nltk.tokenize import TreebankWordTokenizer\n",
        "text=\"Welcome Everyone.1@gmail.com\"\n",
        "lr=text.lower()\n",
        "ur=text.upper()\n",
        "print(ur)\n",
        "print(lr)"
      ],
      "metadata": {
        "colab": {
          "base_uri": "https://localhost:8080/"
        },
        "id": "Za-DJNBfoCNf",
        "outputId": "2cbc9d5c-9830-4f13-f50f-dbbdc10852e5"
      },
      "execution_count": null,
      "outputs": [
        {
          "output_type": "stream",
          "name": "stdout",
          "text": [
            "WELCOME EVERYONE.1@GMAIL.COM\n",
            "welcome everyone.1@gmail.com\n"
          ]
        }
      ]
    },
    {
      "cell_type": "code",
      "source": [
        "from nltk.tokenize import TreebankWordTokenizer\n",
        "\n",
        "text = \"Welcome Everyone . 1@gmail.com\"\n",
        "tokenizer = TreebankWordTokenizer()\n",
        "tokens = tokenizer.tokenize(text)\n",
        "print(tokens)"
      ],
      "metadata": {
        "colab": {
          "base_uri": "https://localhost:8080/"
        },
        "id": "vVOAP4akNndJ",
        "outputId": "3fd44de0-acc9-4ac0-a6e4-a367e1a26e8e"
      },
      "execution_count": null,
      "outputs": [
        {
          "output_type": "stream",
          "name": "stdout",
          "text": [
            "['Welcome', 'Everyone', '.', '1', '@', 'gmail.com']\n"
          ]
        }
      ]
    },
    {
      "cell_type": "code",
      "source": [
        "import nltk\n",
        "\n",
        "stemmer = nltk.PorterStemmer()\n",
        "words = [\"running\", \"ran\", \"runner\",\"better\", \"cats\", \"are\", \"playing\", \"best\", \"saw\",\"caresses\",\"cries\",\"fries\",\"mistress\",\"cry\",\"happy\",\"agreed\",\"educated\",\"twinkle\",\"conditional\",\"frictional\",\"Functional\",\"controll\",\"roll\"]\n",
        "stemmed_words = [stemmer.stem(word) for word in words]\n",
        "\n",
        "print(stemmed_words)"
      ],
      "metadata": {
        "colab": {
          "base_uri": "https://localhost:8080/"
        },
        "id": "wSPtRq9v7SnK",
        "outputId": "f54086a6-eaa8-46ea-e574-ca5043937da6"
      },
      "execution_count": null,
      "outputs": [
        {
          "output_type": "stream",
          "name": "stdout",
          "text": [
            "['run', 'ran', 'runner', 'better', 'cat', 'are', 'play', 'best', 'saw', 'caress', 'cri', 'fri', 'mistress', 'cri', 'happi', 'agre', 'educ', 'twinkl', 'condit', 'friction', 'function', 'control', 'roll']\n"
          ]
        }
      ]
    },
    {
      "cell_type": "code",
      "source": [
        "from nltk.stem import PorterStemmer\n",
        "from nltk.tokenize import word_tokenize\n",
        "ps=PorterStemmer()\n",
        "words=['history','historical','histology','universal','university','hello']\n",
        "for i in words:\n",
        "  print(\"Wordsstem:\",ps.stem(i))"
      ],
      "metadata": {
        "colab": {
          "base_uri": "https://localhost:8080/"
        },
        "id": "xS2JycBxC_iY",
        "outputId": "9ce6649a-42bf-4f11-fdfd-2eca1656c62a"
      },
      "execution_count": null,
      "outputs": [
        {
          "output_type": "stream",
          "name": "stdout",
          "text": [
            "Wordsstem: histori\n",
            "Wordsstem: histor\n",
            "Wordsstem: histolog\n",
            "Wordsstem: univers\n",
            "Wordsstem: univers\n",
            "Wordsstem: hello\n"
          ]
        }
      ]
    },
    {
      "cell_type": "markdown",
      "source": [
        "Lemmatization"
      ],
      "metadata": {
        "id": "UTTDZ_qzfYlh"
      }
    },
    {
      "cell_type": "code",
      "source": [
        "nltk.download('wordnet')"
      ],
      "metadata": {
        "colab": {
          "base_uri": "https://localhost:8080/"
        },
        "id": "PFxk_5LxM9ms",
        "outputId": "24c43cd9-4871-4d4a-cd0f-5761328a7c66"
      },
      "execution_count": null,
      "outputs": [
        {
          "output_type": "stream",
          "name": "stderr",
          "text": [
            "[nltk_data] Downloading package wordnet to /root/nltk_data...\n"
          ]
        },
        {
          "output_type": "execute_result",
          "data": {
            "text/plain": [
              "True"
            ]
          },
          "metadata": {},
          "execution_count": 12
        }
      ]
    },
    {
      "cell_type": "code",
      "source": [
        "nltk.download('averaged_perceptron_tagger')"
      ],
      "metadata": {
        "colab": {
          "base_uri": "https://localhost:8080/"
        },
        "id": "yYwjZXb2JvMd",
        "outputId": "276feff6-bfb2-4bdf-8927-806a743a574f"
      },
      "execution_count": null,
      "outputs": [
        {
          "output_type": "stream",
          "name": "stderr",
          "text": [
            "[nltk_data] Downloading package averaged_perceptron_tagger to\n",
            "[nltk_data]     /root/nltk_data...\n",
            "[nltk_data]   Unzipping taggers/averaged_perceptron_tagger.zip.\n"
          ]
        },
        {
          "output_type": "execute_result",
          "data": {
            "text/plain": [
              "True"
            ]
          },
          "metadata": {},
          "execution_count": 13
        }
      ]
    },
    {
      "cell_type": "code",
      "source": [
        "#WordNet Lemmatization\n",
        "from nltk.stem import WordNetLemmatizer\n",
        "from nltk.tokenize import word_tokenize\n",
        "\n",
        "lemma = WordNetLemmatizer()\n",
        "text = \"If you want to shine like a suns, first burn like a suns .better foxes are quiett. running ate saw am is are\"\n",
        "words = word_tokenize(text)\n",
        "for w in words:\n",
        "    print(w, \" : \", lemma.lemmatize(w))"
      ],
      "metadata": {
        "id": "IiSw0SqhoQpN",
        "colab": {
          "base_uri": "https://localhost:8080/"
        },
        "outputId": "0d714c13-3252-4601-a5a0-940bb9e8255d"
      },
      "execution_count": null,
      "outputs": [
        {
          "output_type": "stream",
          "name": "stdout",
          "text": [
            "If  :  If\n",
            "you  :  you\n",
            "want  :  want\n",
            "to  :  to\n",
            "shine  :  shine\n",
            "like  :  like\n",
            "a  :  a\n",
            "suns  :  sun\n",
            ",  :  ,\n",
            "first  :  first\n",
            "burn  :  burn\n",
            "like  :  like\n",
            "a  :  a\n",
            "suns  :  sun\n",
            ".better  :  .better\n",
            "foxes  :  fox\n",
            "are  :  are\n",
            "quiett  :  quiett\n",
            ".  :  .\n",
            "running  :  running\n",
            "ate  :  ate\n",
            "saw  :  saw\n",
            "am  :  am\n",
            "is  :  is\n",
            "are  :  are\n"
          ]
        }
      ]
    },
    {
      "cell_type": "code",
      "source": [
        "#WordNet Lemmatization\n",
        "from nltk.stem import WordNetLemmatizer\n",
        "from nltk.tokenize import word_tokenize\n",
        "\n",
        "lemma = WordNetLemmatizer()\n",
        "text =\"cats touches the  feet\"\n",
        "\n",
        "words = word_tokenize(text)\n",
        "for w in words:\n",
        "    print(w, \" : \", lemma.lemmatize(w))"
      ],
      "metadata": {
        "colab": {
          "base_uri": "https://localhost:8080/"
        },
        "id": "stu7Ddg1sX9C",
        "outputId": "7c61e849-49d6-457c-bd04-f9fee3df68f6"
      },
      "execution_count": null,
      "outputs": [
        {
          "output_type": "stream",
          "name": "stdout",
          "text": [
            "cats  :  cat\n",
            "touches  :  touch\n",
            "the  :  the\n",
            "feet  :  foot\n"
          ]
        }
      ]
    },
    {
      "cell_type": "code",
      "source": [
        "import nltk\n",
        "\n",
        "lemmatizer = nltk.stem.WordNetLemmatizer()\n",
        "\n",
        "lemma = lemmatizer.lemmatize(\"talking\", pos=\"v\")\n",
        "\n",
        "lemma"
      ],
      "metadata": {
        "colab": {
          "base_uri": "https://localhost:8080/",
          "height": 36
        },
        "id": "3bzinsFoEnBH",
        "outputId": "bada8161-885f-45aa-e418-95e9e0f20202"
      },
      "execution_count": null,
      "outputs": [
        {
          "output_type": "execute_result",
          "data": {
            "text/plain": [
              "'talk'"
            ],
            "application/vnd.google.colaboratory.intrinsic+json": {
              "type": "string"
            }
          },
          "metadata": {},
          "execution_count": 16
        }
      ]
    },
    {
      "cell_type": "code",
      "source": [
        "import nltk\n",
        "lemmatizer = nltk.stem.WordNetLemmatizer()\n",
        "words = [\"talking\", \"running\",\"better\",\"seen\"]\n",
        "lemmas = [lemmatizer.lemmatize(word, pos=\"v\") for word in words]\n",
        "print(lemmas)"
      ],
      "metadata": {
        "colab": {
          "base_uri": "https://localhost:8080/"
        },
        "id": "CbZ3uFA6rtMq",
        "outputId": "885ecd42-8f26-4305-b68d-77dd7b53c3df"
      },
      "execution_count": null,
      "outputs": [
        {
          "output_type": "stream",
          "name": "stdout",
          "text": [
            "['talk', 'run', 'better', 'see']\n"
          ]
        }
      ]
    },
    {
      "cell_type": "markdown",
      "source": [
        "Stopwords"
      ],
      "metadata": {
        "id": "fS9RXZ5WfxVT"
      }
    },
    {
      "cell_type": "code",
      "source": [
        "nltk.download('stopwords')"
      ],
      "metadata": {
        "colab": {
          "base_uri": "https://localhost:8080/"
        },
        "id": "fe2uQPh2N67y",
        "outputId": "ac42896d-cccd-423b-af14-9fefee1d4321"
      },
      "execution_count": null,
      "outputs": [
        {
          "output_type": "stream",
          "name": "stderr",
          "text": [
            "[nltk_data] Downloading package stopwords to /root/nltk_data...\n",
            "[nltk_data]   Unzipping corpora/stopwords.zip.\n"
          ]
        },
        {
          "output_type": "execute_result",
          "data": {
            "text/plain": [
              "True"
            ]
          },
          "metadata": {},
          "execution_count": 18
        }
      ]
    },
    {
      "cell_type": "code",
      "source": [
        "import nltk\n",
        "\n",
        "stop_words = set(nltk.corpus.stopwords.words('english'))\n",
        "\n",
        "print(stop_words)"
      ],
      "metadata": {
        "id": "_K_K4GXegUDU",
        "colab": {
          "base_uri": "https://localhost:8080/"
        },
        "outputId": "dd83325a-1998-4e44-98cb-d3296351d771"
      },
      "execution_count": null,
      "outputs": [
        {
          "output_type": "stream",
          "name": "stdout",
          "text": [
            "{'or', 'ourselves', 'i', 'with', 'very', 'until', 'we', 'why', \"hadn't\", \"hasn't\", 'me', 'what', \"that'll\", 'into', 'the', 'ma', 'm', 'couldn', \"mightn't\", 'if', 'your', 'because', 'can', \"weren't\", 'it', 'shan', 'these', 'any', 'her', 'not', 'before', 'at', 'yourselves', 'from', \"you'll\", 'which', 'by', 'all', \"mustn't\", 'those', 'but', 'wouldn', 'my', \"you'd\", 'are', 'myself', 'for', 'their', 'him', 'off', 'against', 'out', 'hadn', \"shouldn't\", 'when', 'same', \"haven't\", 'on', 'haven', 'itself', 'was', 'a', \"don't\", \"shan't\", 'doing', 'then', 'its', 'who', 'some', 'yourself', \"should've\", 'ain', 'after', \"won't\", 'he', 'theirs', 'this', 'of', 'have', 'so', 'am', 're', 'to', 'she', 'below', 'nor', 'again', \"aren't\", 'hasn', 'here', 'his', 'that', 've', 'and', 'through', 'over', \"isn't\", 'doesn', 'between', 'd', 'as', 'whom', 'o', 'each', 'an', \"it's\", 'too', 'most', 'than', 'y', 'in', 'mightn', 'did', 'mustn', 'do', \"you're\", 'while', 'weren', \"you've\", 'be', 'only', 'themselves', 'ours', 's', 'above', 'just', 'is', 'once', 'will', 'further', 'more', 'up', 'won', 'being', 't', 'down', \"couldn't\", 'wasn', 'didn', 'no', 'other', 'now', 'own', 'under', 'during', 'hers', 'should', 'them', 'you', 'does', \"wouldn't\", 'few', 'they', 'herself', 'such', 'll', \"doesn't\", 'been', 'has', \"needn't\", 'were', \"didn't\", 'isn', 'our', 'having', 'yours', 'had', 'himself', \"she's\", 'there', 'don', 'needn', 'how', 'aren', 'shouldn', 'about', 'both', 'where', \"wasn't\"}\n"
          ]
        }
      ]
    },
    {
      "cell_type": "code",
      "source": [
        "#Stopwords removal\n",
        "from nltk.corpus import stopwords\n",
        "from nltk.tokenize import word_tokenize\n",
        "\n",
        "text=\"students are attending online classes . He is working on the project that is due next week.\"\n",
        "\n",
        "stop_words = set(stopwords.words('english'))\n",
        "word_tokens = word_tokenize(text)\n",
        "\n",
        "filtered_sentence = []\n",
        "\n",
        "for w in word_tokens:\n",
        "    if w not in stop_words:\n",
        "        filtered_sentence.append(w)\n",
        "\n",
        "print(word_tokens)\n",
        "print(filtered_sentence)"
      ],
      "metadata": {
        "colab": {
          "base_uri": "https://localhost:8080/"
        },
        "id": "Zfs4_kRwM7wb",
        "outputId": "3886c3fb-c3e7-428b-f864-06d5e96522c7"
      },
      "execution_count": null,
      "outputs": [
        {
          "output_type": "stream",
          "name": "stdout",
          "text": [
            "['students', 'are', 'attending', 'online', 'classes', '.', 'He', 'is', 'working', 'on', 'the', 'project', 'that', 'is', 'due', 'next', 'week', '.']\n",
            "['students', 'attending', 'online', 'classes', '.', 'He', 'working', 'project', 'due', 'next', 'week', '.']\n"
          ]
        }
      ]
    },
    {
      "cell_type": "markdown",
      "source": [
        "# POS TAG"
      ],
      "metadata": {
        "id": "Mxf7-cd_glcY"
      }
    },
    {
      "cell_type": "code",
      "source": [
        "nltk.download('averaged_perceptron_tagger')"
      ],
      "metadata": {
        "colab": {
          "base_uri": "https://localhost:8080/"
        },
        "id": "7cNDk6qxOLYN",
        "outputId": "41c65c56-4b46-4626-b5c7-f8f62fc1b212"
      },
      "execution_count": null,
      "outputs": [
        {
          "output_type": "stream",
          "name": "stderr",
          "text": [
            "[nltk_data] Downloading package averaged_perceptron_tagger to\n",
            "[nltk_data]     /root/nltk_data...\n",
            "[nltk_data]   Unzipping taggers/averaged_perceptron_tagger.zip.\n"
          ]
        },
        {
          "output_type": "execute_result",
          "data": {
            "text/plain": [
              "True"
            ]
          },
          "metadata": {},
          "execution_count": 13
        }
      ]
    },
    {
      "cell_type": "code",
      "source": [
        "#Part-of-Speech tagging\n",
        "\n",
        "import nltk\n",
        "from nltk.tokenize import word_tokenize\n",
        "from nltk.tag import pos_tag\n",
        "\n",
        "text=\"WElcome you to the internship AI . All the best.\"\n",
        "\n",
        "\n",
        "sent = nltk.word_tokenize(text)\n",
        "print(sent)\n",
        "postag = nltk.pos_tag(sent)\n",
        "print(postag)"
      ],
      "metadata": {
        "colab": {
          "base_uri": "https://localhost:8080/"
        },
        "id": "tDVReOvBOFfF",
        "outputId": "df7b35a1-3507-417f-bb6e-5b00227286aa"
      },
      "execution_count": null,
      "outputs": [
        {
          "output_type": "stream",
          "name": "stdout",
          "text": [
            "['WElcome', 'you', 'to', 'the', 'internship', 'AI', '.', 'All', 'the', 'best', '.']\n",
            "[('WElcome', 'VB'), ('you', 'PRP'), ('to', 'TO'), ('the', 'DT'), ('internship', 'NN'), ('AI', 'NNP'), ('.', '.'), ('All', 'PDT'), ('the', 'DT'), ('best', 'JJS'), ('.', '.')]\n"
          ]
        }
      ]
    },
    {
      "cell_type": "markdown",
      "source": [
        "NER TAGS"
      ],
      "metadata": {
        "id": "q-igjL5UjFru"
      }
    },
    {
      "cell_type": "code",
      "source": [
        "nltk.download('words')"
      ],
      "metadata": {
        "colab": {
          "base_uri": "https://localhost:8080/"
        },
        "id": "3zPrbIDKOwYx",
        "outputId": "6670de3f-222f-44a0-ed1c-7b97a112cfc1"
      },
      "execution_count": null,
      "outputs": [
        {
          "output_type": "stream",
          "name": "stderr",
          "text": [
            "[nltk_data] Downloading package words to /root/nltk_data...\n",
            "[nltk_data]   Unzipping corpora/words.zip.\n"
          ]
        },
        {
          "output_type": "execute_result",
          "data": {
            "text/plain": [
              "True"
            ]
          },
          "metadata": {},
          "execution_count": 4
        }
      ]
    },
    {
      "cell_type": "code",
      "source": [
        "nltk.download('maxent_ne_chunker')"
      ],
      "metadata": {
        "colab": {
          "base_uri": "https://localhost:8080/"
        },
        "id": "YVx9pfdTOwag",
        "outputId": "1b5bcf44-b2f8-4f05-e582-c977e4b6c76a"
      },
      "execution_count": null,
      "outputs": [
        {
          "output_type": "stream",
          "name": "stderr",
          "text": [
            "[nltk_data] Downloading package maxent_ne_chunker to\n",
            "[nltk_data]     /root/nltk_data...\n",
            "[nltk_data]   Unzipping chunkers/maxent_ne_chunker.zip.\n"
          ]
        },
        {
          "output_type": "execute_result",
          "data": {
            "text/plain": [
              "True"
            ]
          },
          "metadata": {},
          "execution_count": 5
        }
      ]
    },
    {
      "cell_type": "code",
      "source": [
        "example = \"Hello India. Narendra Modi visited China. Gopi Owns a Ford car.\"\n",
        "\n",
        "token = word_tokenize(example)\n",
        "postag = nltk.pos_tag(token)\n",
        "ner = nltk.ne_chunk(postag, binary= False)\n",
        "print(ner)"
      ],
      "metadata": {
        "colab": {
          "base_uri": "https://localhost:8080/"
        },
        "id": "RlJ_869oOrnO",
        "outputId": "67b973f5-c009-46b6-fae9-c6f775991da2"
      },
      "execution_count": null,
      "outputs": [
        {
          "output_type": "stream",
          "name": "stdout",
          "text": [
            "(S\n",
            "  (PERSON Hello/NNP)\n",
            "  (GPE India/NNP)\n",
            "  ./.\n",
            "  (PERSON Narendra/NNP Modi/NNP)\n",
            "  visited/VBD\n",
            "  (GPE China/NNP)\n",
            "  ./.\n",
            "  (PERSON Gopi/NNP Owns/NNP)\n",
            "  a/DT\n",
            "  Ford/NNP\n",
            "  car/NN\n",
            "  ./.)\n"
          ]
        }
      ]
    },
    {
      "cell_type": "code",
      "source": [
        "import nltk\n",
        "nltk.download('vader_lexicon')\n",
        "from nltk.sentiment import SentimentIntensityAnalyzer\n",
        "\n",
        "sia = SentimentIntensityAnalyzer()\n",
        "\n",
        "s2 = 'This was the best, most awesome movie EVER MADE!!!Last movie disappointed'\n",
        "print(\"polarity score for s2:\")\n",
        "sia.polarity_scores(s2)"
      ],
      "metadata": {
        "colab": {
          "base_uri": "https://localhost:8080/"
        },
        "id": "wwhV1ZaaO9qA",
        "outputId": "507d552c-0e5d-4379-9d14-445b95e88e6b"
      },
      "execution_count": null,
      "outputs": [
        {
          "output_type": "stream",
          "name": "stderr",
          "text": [
            "[nltk_data] Downloading package vader_lexicon to /root/nltk_data...\n"
          ]
        },
        {
          "output_type": "stream",
          "name": "stdout",
          "text": [
            "polarity score for s2:\n"
          ]
        },
        {
          "output_type": "execute_result",
          "data": {
            "text/plain": [
              "{'neg': 0.151, 'neu': 0.389, 'pos': 0.46, 'compound': 0.811}"
            ]
          },
          "metadata": {},
          "execution_count": 14
        }
      ]
    },
    {
      "cell_type": "markdown",
      "source": [],
      "metadata": {
        "id": "OpSj0aQ1yZCO"
      }
    },
    {
      "cell_type": "code",
      "source": [],
      "metadata": {
        "id": "qmgyRiF-mrQC"
      },
      "execution_count": null,
      "outputs": []
    }
  ]
}