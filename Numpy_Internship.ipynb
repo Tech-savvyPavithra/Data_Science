{
  "nbformat": 4,
  "nbformat_minor": 0,
  "metadata": {
    "colab": {
      "provenance": [],
      "authorship_tag": "ABX9TyMTPaRleEgzPesY58x+dZ2N",
      "include_colab_link": true
    },
    "kernelspec": {
      "name": "python3",
      "display_name": "Python 3"
    },
    "language_info": {
      "name": "python"
    }
  },
  "cells": [
    {
      "cell_type": "markdown",
      "metadata": {
        "id": "view-in-github",
        "colab_type": "text"
      },
      "source": [
        "<a href=\"https://colab.research.google.com/github/Tech-savvyPavithra/Data_Science/blob/main/Numpy_Internship.ipynb\" target=\"_parent\"><img src=\"https://colab.research.google.com/assets/colab-badge.svg\" alt=\"Open In Colab\"/></a>"
      ]
    },
    {
      "cell_type": "markdown",
      "source": [
        "Practice"
      ],
      "metadata": {
        "id": "J1l3iKK3-89Z"
      }
    },
    {
      "cell_type": "code",
      "source": [
        "import numpy as np"
      ],
      "metadata": {
        "id": "C60xzKLP-6vi"
      },
      "execution_count": null,
      "outputs": []
    },
    {
      "cell_type": "code",
      "source": [
        "a=np.array([1,2,3],dtype='int32')\n",
        "print(a)"
      ],
      "metadata": {
        "colab": {
          "base_uri": "https://localhost:8080/"
        },
        "id": "lFsN7sGZ6ASP",
        "outputId": "edce1450-ae1a-48f1-a17d-18b44144c6df"
      },
      "execution_count": null,
      "outputs": [
        {
          "output_type": "stream",
          "name": "stdout",
          "text": [
            "[1 2 3]\n"
          ]
        }
      ]
    },
    {
      "cell_type": "code",
      "source": [
        "b=np.array([[9.0,8.0,7.0],[6.0,5.0,4.0]])\n",
        "print(b)"
      ],
      "metadata": {
        "colab": {
          "base_uri": "https://localhost:8080/"
        },
        "id": "wuCCJAP67flh",
        "outputId": "cc1b67c5-7fda-40cb-b926-4c9aec039857"
      },
      "execution_count": null,
      "outputs": [
        {
          "output_type": "stream",
          "name": "stdout",
          "text": [
            "[[9. 8. 7.]\n",
            " [6. 5. 4.]]\n"
          ]
        }
      ]
    },
    {
      "cell_type": "code",
      "source": [
        "#Get Dimension\n",
        "a.ndim"
      ],
      "metadata": {
        "colab": {
          "base_uri": "https://localhost:8080/"
        },
        "id": "aRegATok75uF",
        "outputId": "2241a6af-0555-4cfc-9d00-1a2b7b0d1192"
      },
      "execution_count": null,
      "outputs": [
        {
          "output_type": "execute_result",
          "data": {
            "text/plain": [
              "1"
            ]
          },
          "metadata": {},
          "execution_count": 7
        }
      ]
    },
    {
      "cell_type": "code",
      "source": [
        "#Get Type\n",
        "a.dtype"
      ],
      "metadata": {
        "colab": {
          "base_uri": "https://localhost:8080/"
        },
        "id": "jatzPUj88MVD",
        "outputId": "3ad87502-e7fa-49eb-ea0c-b03c0e29f59d"
      },
      "execution_count": null,
      "outputs": [
        {
          "output_type": "execute_result",
          "data": {
            "text/plain": [
              "dtype('int64')"
            ]
          },
          "metadata": {},
          "execution_count": 8
        }
      ]
    },
    {
      "cell_type": "code",
      "source": [
        "#Get Size\n",
        "a.itemsize"
      ],
      "metadata": {
        "colab": {
          "base_uri": "https://localhost:8080/"
        },
        "id": "HJ1ZlHhT8TCW",
        "outputId": "864646dc-98c9-4e6f-86b4-0cb980db7f2d"
      },
      "execution_count": null,
      "outputs": [
        {
          "output_type": "execute_result",
          "data": {
            "text/plain": [
              "4"
            ]
          },
          "metadata": {},
          "execution_count": 11
        }
      ]
    },
    {
      "cell_type": "code",
      "source": [
        "#Get total Size\n",
        "a.nbytes"
      ],
      "metadata": {
        "colab": {
          "base_uri": "https://localhost:8080/"
        },
        "id": "lLQ-JscW8jd2",
        "outputId": "acd9e693-ca2a-4840-b6d2-2308f6777465"
      },
      "execution_count": null,
      "outputs": [
        {
          "output_type": "execute_result",
          "data": {
            "text/plain": [
              "12"
            ]
          },
          "metadata": {},
          "execution_count": 12
        }
      ]
    },
    {
      "cell_type": "code",
      "source": [
        "#Get number of elements\n",
        "a.size"
      ],
      "metadata": {
        "id": "MziYBLo-8qw0",
        "outputId": "aab78ce4-4ea7-498c-e718-d6eee5e06827",
        "colab": {
          "base_uri": "https://localhost:8080/"
        }
      },
      "execution_count": null,
      "outputs": [
        {
          "output_type": "execute_result",
          "data": {
            "text/plain": [
              "3"
            ]
          },
          "metadata": {},
          "execution_count": 13
        }
      ]
    },
    {
      "cell_type": "code",
      "source": [
        "#Accessing,Changing specific element\n",
        "a=np.array([[1,2,3,4,5,6,7],[8,9,10,11,12,13,14]])\n",
        "print(a)"
      ],
      "metadata": {
        "id": "pAzrLAWZ8wVo",
        "colab": {
          "base_uri": "https://localhost:8080/"
        },
        "outputId": "31a38377-dc37-45e6-d23d-57cda8bfa4ba"
      },
      "execution_count": null,
      "outputs": [
        {
          "output_type": "stream",
          "name": "stdout",
          "text": [
            "[[ 1  2  3  4  5  6  7]\n",
            " [ 8  9 10 11 12 13 14]]\n"
          ]
        }
      ]
    },
    {
      "cell_type": "code",
      "source": [
        "# Get a specific element\n",
        "a[1,5]"
      ],
      "metadata": {
        "colab": {
          "base_uri": "https://localhost:8080/"
        },
        "id": "71iVKzpx_Jen",
        "outputId": "fc6544dc-261b-434a-df5e-c638b0914011"
      },
      "execution_count": null,
      "outputs": [
        {
          "output_type": "execute_result",
          "data": {
            "text/plain": [
              "13"
            ]
          },
          "metadata": {},
          "execution_count": 18
        }
      ]
    },
    {
      "cell_type": "code",
      "source": [
        "#Get a specific row\n",
        "a[0,:]"
      ],
      "metadata": {
        "colab": {
          "base_uri": "https://localhost:8080/"
        },
        "id": "cGknt7y2_VXO",
        "outputId": "c4a07476-6311-4581-b8d0-b1f03e9fc1ec"
      },
      "execution_count": null,
      "outputs": [
        {
          "output_type": "execute_result",
          "data": {
            "text/plain": [
              "array([1, 2, 3, 4, 5, 6, 7])"
            ]
          },
          "metadata": {},
          "execution_count": 19
        }
      ]
    },
    {
      "cell_type": "code",
      "source": [
        "#Get a specific column\n",
        "a[:,2]"
      ],
      "metadata": {
        "colab": {
          "base_uri": "https://localhost:8080/"
        },
        "id": "dyEF7QGy_d98",
        "outputId": "eb50514a-4006-4e3e-9ed0-472007ca1dfe"
      },
      "execution_count": null,
      "outputs": [
        {
          "output_type": "execute_result",
          "data": {
            "text/plain": [
              "array([ 3, 10])"
            ]
          },
          "metadata": {},
          "execution_count": 20
        }
      ]
    },
    {
      "cell_type": "code",
      "source": [
        "#Getting a little more fancy\n",
        "a[0,1:-1:2]\n",
        "a[1,5]\n",
        "a[:,2]=[1,2]\n",
        "print(a)"
      ],
      "metadata": {
        "colab": {
          "base_uri": "https://localhost:8080/"
        },
        "id": "pybFANGX_l4o",
        "outputId": "b3185892-7ade-4403-974f-185433e27495"
      },
      "execution_count": null,
      "outputs": [
        {
          "output_type": "stream",
          "name": "stdout",
          "text": [
            "[[ 1  2  1  4  5  6  7]\n",
            " [ 8  9  2 11 12 13 14]]\n"
          ]
        }
      ]
    },
    {
      "cell_type": "code",
      "source": [
        "#3D example\n",
        "b=np.array([[[1,2],[3,4]],[[5,6],[7,8]]])\n",
        "print(b)"
      ],
      "metadata": {
        "colab": {
          "base_uri": "https://localhost:8080/"
        },
        "id": "WbATKAHfAENG",
        "outputId": "c31f3eab-85dc-4bb7-bc03-771b65bc2706"
      },
      "execution_count": null,
      "outputs": [
        {
          "output_type": "stream",
          "name": "stdout",
          "text": [
            "[[[1 2]\n",
            "  [3 4]]\n",
            "\n",
            " [[5 6]\n",
            "  [7 8]]]\n"
          ]
        }
      ]
    },
    {
      "cell_type": "code",
      "source": [
        "#Get specific element\n",
        "b[0,1,1]"
      ],
      "metadata": {
        "colab": {
          "base_uri": "https://localhost:8080/"
        },
        "id": "HgzfKSXlAbhI",
        "outputId": "35ad3e91-6fe0-4f95-a379-557d4ef6f5f1"
      },
      "execution_count": null,
      "outputs": [
        {
          "output_type": "execute_result",
          "data": {
            "text/plain": [
              "4"
            ]
          },
          "metadata": {},
          "execution_count": 24
        }
      ]
    },
    {
      "cell_type": "code",
      "source": [
        "#Replace\n",
        "b[:,1,:]=[[9,9,9],[8,8]]\n",
        "print(b)"
      ],
      "metadata": {
        "colab": {
          "base_uri": "https://localhost:8080/",
          "height": 384
        },
        "id": "fovi4HsaAko4",
        "outputId": "d5994e54-8d8f-4657-9268-fd0028ac48da"
      },
      "execution_count": null,
      "outputs": [
        {
          "output_type": "error",
          "ename": "ValueError",
          "evalue": "setting an array element with a sequence. The requested array has an inhomogeneous shape after 1 dimensions. The detected shape was (2,) + inhomogeneous part.",
          "traceback": [
            "\u001b[0;31m---------------------------------------------------------------------------\u001b[0m",
            "\u001b[0;31mValueError\u001b[0m                                Traceback (most recent call last)",
            "\u001b[0;32m<ipython-input-27-82e322fcb0b6>\u001b[0m in \u001b[0;36m<cell line: 2>\u001b[0;34m()\u001b[0m\n\u001b[1;32m      1\u001b[0m \u001b[0;31m#Replace\u001b[0m\u001b[0;34m\u001b[0m\u001b[0;34m\u001b[0m\u001b[0m\n\u001b[0;32m----> 2\u001b[0;31m \u001b[0mb\u001b[0m\u001b[0;34m[\u001b[0m\u001b[0;34m:\u001b[0m\u001b[0;34m,\u001b[0m\u001b[0;36m1\u001b[0m\u001b[0;34m,\u001b[0m\u001b[0;34m:\u001b[0m\u001b[0;34m]\u001b[0m\u001b[0;34m=\u001b[0m\u001b[0;34m[\u001b[0m\u001b[0;34m[\u001b[0m\u001b[0;36m9\u001b[0m\u001b[0;34m,\u001b[0m\u001b[0;36m9\u001b[0m\u001b[0;34m,\u001b[0m\u001b[0;36m9\u001b[0m\u001b[0;34m]\u001b[0m\u001b[0;34m,\u001b[0m\u001b[0;34m[\u001b[0m\u001b[0;36m8\u001b[0m\u001b[0;34m,\u001b[0m\u001b[0;36m8\u001b[0m\u001b[0;34m]\u001b[0m\u001b[0;34m]\u001b[0m\u001b[0;34m\u001b[0m\u001b[0;34m\u001b[0m\u001b[0m\n\u001b[0m\u001b[1;32m      3\u001b[0m \u001b[0mprint\u001b[0m\u001b[0;34m(\u001b[0m\u001b[0mb\u001b[0m\u001b[0;34m)\u001b[0m\u001b[0;34m\u001b[0m\u001b[0;34m\u001b[0m\u001b[0m\n",
            "\u001b[0;31mValueError\u001b[0m: setting an array element with a sequence. The requested array has an inhomogeneous shape after 1 dimensions. The detected shape was (2,) + inhomogeneous part."
          ]
        }
      ]
    },
    {
      "cell_type": "code",
      "source": [
        "#Replace\n",
        "b[:,1,:]=[[9,9,9],[8,8,8]]\n",
        "print(b)"
      ],
      "metadata": {
        "colab": {
          "base_uri": "https://localhost:8080/",
          "height": 350
        },
        "id": "PKzQKWSPA5q-",
        "outputId": "d9126b99-db0d-46dc-83f6-eda449e9ae4b"
      },
      "execution_count": null,
      "outputs": [
        {
          "output_type": "error",
          "ename": "ValueError",
          "evalue": "could not broadcast input array from shape (2,3) into shape (2,2)",
          "traceback": [
            "\u001b[0;31m---------------------------------------------------------------------------\u001b[0m",
            "\u001b[0;31mValueError\u001b[0m                                Traceback (most recent call last)",
            "\u001b[0;32m<ipython-input-28-b359ba8e680d>\u001b[0m in \u001b[0;36m<cell line: 2>\u001b[0;34m()\u001b[0m\n\u001b[1;32m      1\u001b[0m \u001b[0;31m#Replace\u001b[0m\u001b[0;34m\u001b[0m\u001b[0;34m\u001b[0m\u001b[0m\n\u001b[0;32m----> 2\u001b[0;31m \u001b[0mb\u001b[0m\u001b[0;34m[\u001b[0m\u001b[0;34m:\u001b[0m\u001b[0;34m,\u001b[0m\u001b[0;36m1\u001b[0m\u001b[0;34m,\u001b[0m\u001b[0;34m:\u001b[0m\u001b[0;34m]\u001b[0m\u001b[0;34m=\u001b[0m\u001b[0;34m[\u001b[0m\u001b[0;34m[\u001b[0m\u001b[0;36m9\u001b[0m\u001b[0;34m,\u001b[0m\u001b[0;36m9\u001b[0m\u001b[0;34m,\u001b[0m\u001b[0;36m9\u001b[0m\u001b[0;34m]\u001b[0m\u001b[0;34m,\u001b[0m\u001b[0;34m[\u001b[0m\u001b[0;36m8\u001b[0m\u001b[0;34m,\u001b[0m\u001b[0;36m8\u001b[0m\u001b[0;34m,\u001b[0m\u001b[0;36m8\u001b[0m\u001b[0;34m]\u001b[0m\u001b[0;34m]\u001b[0m\u001b[0;34m\u001b[0m\u001b[0;34m\u001b[0m\u001b[0m\n\u001b[0m\u001b[1;32m      3\u001b[0m \u001b[0mprint\u001b[0m\u001b[0;34m(\u001b[0m\u001b[0mb\u001b[0m\u001b[0;34m)\u001b[0m\u001b[0;34m\u001b[0m\u001b[0;34m\u001b[0m\u001b[0m\n",
            "\u001b[0;31mValueError\u001b[0m: could not broadcast input array from shape (2,3) into shape (2,2)"
          ]
        }
      ]
    },
    {
      "cell_type": "code",
      "source": [
        "#Replace\n",
        "b[:,1,:]=[[9,9],[8,8]]\n",
        "print(b)"
      ],
      "metadata": {
        "colab": {
          "base_uri": "https://localhost:8080/"
        },
        "id": "PYkuvhGbBEsv",
        "outputId": "37fcb345-9ada-4d2e-c6cd-44177f814e49"
      },
      "execution_count": null,
      "outputs": [
        {
          "output_type": "stream",
          "name": "stdout",
          "text": [
            "[[[1 2]\n",
            "  [9 9]]\n",
            "\n",
            " [[5 6]\n",
            "  [8 8]]]\n"
          ]
        }
      ]
    },
    {
      "cell_type": "markdown",
      "source": [
        "Assignment Workouts"
      ],
      "metadata": {
        "id": "b5f56WaFBLzg"
      }
    },
    {
      "cell_type": "code",
      "source": [
        "# Create a numpy array from a list of numbers\n",
        "a = np.array([1, 2, 3, 4, 5])\n",
        "print(a)"
      ],
      "metadata": {
        "colab": {
          "base_uri": "https://localhost:8080/"
        },
        "id": "m68Z5lNMCmFV",
        "outputId": "b5b59942-10b8-424c-81b1-a2b0f89ced50"
      },
      "execution_count": null,
      "outputs": [
        {
          "output_type": "stream",
          "name": "stdout",
          "text": [
            "[1 2 3 4 5]\n"
          ]
        }
      ]
    },
    {
      "cell_type": "code",
      "source": [
        "# Create a numpy array with values from 0 to 9\n",
        "b = np.arange(10)\n",
        "print(b)\n",
        "\n",
        "# Create a numpy array with values from 10 to 20 with a step of 2\n",
        "c = np.arange(10, 20, 2)\n",
        "print(c)"
      ],
      "metadata": {
        "colab": {
          "base_uri": "https://localhost:8080/"
        },
        "id": "BBIvXVjmExXY",
        "outputId": "cbf05d44-36dc-43f7-f0c0-6f2619fb3fb5"
      },
      "execution_count": null,
      "outputs": [
        {
          "output_type": "stream",
          "name": "stdout",
          "text": [
            "[0 1 2 3 4 5 6 7 8 9]\n",
            "[10 12 14 16 18]\n"
          ]
        }
      ]
    },
    {
      "cell_type": "code",
      "source": [
        "# Create a numpy array with shape (2, 3) and filled with ones\n",
        "d = np.ones((2, 3))\n",
        "print(d)\n",
        "\n",
        "# Create a numpy array with shape (3, 2) and filled with zeros\n",
        "e = np.zeros((3, 2))\n",
        "print(e)"
      ],
      "metadata": {
        "colab": {
          "base_uri": "https://localhost:8080/"
        },
        "id": "vH-36owyE54b",
        "outputId": "ac89aacc-dc77-44fc-aaa8-7045b8213861"
      },
      "execution_count": null,
      "outputs": [
        {
          "output_type": "stream",
          "name": "stdout",
          "text": [
            "[[1. 1. 1.]\n",
            " [1. 1. 1.]]\n",
            "[[0. 0.]\n",
            " [0. 0.]\n",
            " [0. 0.]]\n"
          ]
        }
      ]
    },
    {
      "cell_type": "code",
      "source": [
        "# Create an array with 5 random integers from 0 to 10\n",
        "l = np.random.randint(0, 10, 5)\n",
        "print(l)\n",
        "\n",
        "# Create an array with 4 random floats from a normal distribution\n",
        "m = np.random.normal(size=4)\n",
        "print(m)\n",
        "\n",
        "# Create a 2x2 array with random values from a uniform distribution\n",
        "n = np.random.uniform(size=(2, 2))\n",
        "print(n)"
      ],
      "metadata": {
        "colab": {
          "base_uri": "https://localhost:8080/"
        },
        "id": "PrHTWznaFNIX",
        "outputId": "7f474878-d337-40a5-dad4-11acb5e718b8"
      },
      "execution_count": null,
      "outputs": [
        {
          "output_type": "stream",
          "name": "stdout",
          "text": [
            "[6 1 1 2 7]\n",
            "[ 0.6973106  -0.39768761  0.09440997 -0.28947807]\n",
            "[[0.66664558 0.52340814]\n",
            " [0.0747979  0.14349721]]\n"
          ]
        }
      ]
    },
    {
      "cell_type": "code",
      "source": [
        "# Creating a 2D array of random numbers between 0 and 1\n",
        "a = np.random.rand(4, 5)\n",
        "print(a)\n",
        "\n",
        "# Calculating the mean, standard deviation, and sum of the array\n",
        "mean = np.mean(a)\n",
        "std = np.std(a)\n",
        "sum = np.sum(a)\n",
        "print(\"Mean:\", mean)\n",
        "print(\"Standard deviation:\", std)\n",
        "print(\"Sum:\", sum)"
      ],
      "metadata": {
        "id": "7bEjIvqmBIXI",
        "colab": {
          "base_uri": "https://localhost:8080/"
        },
        "outputId": "a422a24c-e294-4a5b-ef08-d50eb00a5236"
      },
      "execution_count": null,
      "outputs": [
        {
          "output_type": "stream",
          "name": "stdout",
          "text": [
            "[[0.41169216 0.40449023 0.14536152 0.2633402  0.18826901]\n",
            " [0.08913564 0.17495271 0.77715035 0.57593197 0.47658031]\n",
            " [0.09564365 0.48107531 0.06559748 0.23884449 0.487539  ]\n",
            " [0.26116145 0.18053939 0.40327196 0.86769616 0.75030521]]\n",
            "Mean: 0.3669289100145262\n",
            "Standard deviation: 0.2330815277866317\n",
            "Sum: 7.338578200290525\n"
          ]
        }
      ]
    },
    {
      "cell_type": "code",
      "source": [
        "# Creating a 1D array of 12 elements\n",
        "b = np.arange(12)\n",
        "print(b)\n",
        "\n",
        "# Reshaping the array to a 3x4 matrix\n",
        "b = b.reshape(3, 4)\n",
        "print(b)\n",
        "\n",
        "# Transposing the matrix\n",
        "b = b.T\n",
        "print(b)"
      ],
      "metadata": {
        "colab": {
          "base_uri": "https://localhost:8080/"
        },
        "id": "-yhW2oJcCb2h",
        "outputId": "eb379f5c-f5bd-4ebe-ca0f-9ab1a26a822e"
      },
      "execution_count": null,
      "outputs": [
        {
          "output_type": "stream",
          "name": "stdout",
          "text": [
            "[ 0  1  2  3  4  5  6  7  8  9 10 11]\n",
            "[[ 0  1  2  3]\n",
            " [ 4  5  6  7]\n",
            " [ 8  9 10 11]]\n",
            "[[ 0  4  8]\n",
            " [ 1  5  9]\n",
            " [ 2  6 10]\n",
            " [ 3  7 11]]\n"
          ]
        }
      ]
    },
    {
      "cell_type": "code",
      "source": [
        "# Creating two 2D arrays of shape 2x3 and 3x2\n",
        "c = np.array([[1, 2, 3], [4, 5, 6]])\n",
        "d = np.array([[7, 8], [9, 10], [11, 12]])\n",
        "print(c)\n",
        "print(d)\n",
        "\n",
        "# Performing matrix multiplication on c and d\n",
        "e = np.matmul(c, d)\n",
        "print(e)\n",
        "\n",
        "# Performing dot product on c and d\n",
        "f = np.dot(c, d)\n",
        "print(f)"
      ],
      "metadata": {
        "colab": {
          "base_uri": "https://localhost:8080/"
        },
        "id": "MVWhOolPChaZ",
        "outputId": "2cc4f2c5-d80b-4ea1-deb3-bbfc0e0acd08"
      },
      "execution_count": null,
      "outputs": [
        {
          "output_type": "stream",
          "name": "stdout",
          "text": [
            "[[1 2 3]\n",
            " [4 5 6]]\n",
            "[[ 7  8]\n",
            " [ 9 10]\n",
            " [11 12]]\n",
            "[[ 58  64]\n",
            " [139 154]]\n",
            "[[ 58  64]\n",
            " [139 154]]\n"
          ]
        }
      ]
    },
    {
      "cell_type": "code",
      "source": [
        "# Create a 2D array of shape (3, 4)\n",
        "a = np.array([[1, 2, 3, 4], [5, 6, 7, 8], [9, 10, 11, 12]])\n",
        "print(a)\n",
        "\n",
        "# Get the size, shape, number of dimensions, and number of bytes of the array\n",
        "size = np.size(a)\n",
        "shape = np.shape(a)\n",
        "ndim = np.ndim(a)\n",
        "print(\"Size:\", size)\n",
        "print(\"Shape:\", shape)\n",
        "print(\"Number of dimensions:\", ndim)"
      ],
      "metadata": {
        "id": "hOYBkLgzFhen",
        "colab": {
          "base_uri": "https://localhost:8080/"
        },
        "outputId": "fe6a5774-e2c6-4ceb-d34a-b6d524686161"
      },
      "execution_count": null,
      "outputs": [
        {
          "output_type": "stream",
          "name": "stdout",
          "text": [
            "[[ 1  2  3  4]\n",
            " [ 5  6  7  8]\n",
            " [ 9 10 11 12]]\n",
            "Size: 12\n",
            "Shape: (3, 4)\n",
            "Number of dimensions: 2\n"
          ]
        }
      ]
    },
    {
      "cell_type": "code",
      "source": [
        "# Create a 2D array of shape (2, 3) and filled with zeros\n",
        "b = np.zeros((2, 3))\n",
        "print(b)\n",
        "\n",
        "# Create a 2D array of shape (2, 3) and filled with ones\n",
        "c = np.ones((2, 3))\n",
        "print(c)\n",
        "\n",
        "# Create a 2D array of shape (2, 3) and filled with uninitialized values\n",
        "d = np.empty((2, 3))\n",
        "print(d)\n",
        "\n",
        "# Create a 2D identity matrix of shape (3, 3)\n",
        "e = np.identity(3)\n",
        "print(e)"
      ],
      "metadata": {
        "colab": {
          "base_uri": "https://localhost:8080/"
        },
        "id": "LMTwf_65GOfS",
        "outputId": "b21d4195-0f23-4597-d018-1c3ba720bfd9"
      },
      "execution_count": null,
      "outputs": [
        {
          "output_type": "stream",
          "name": "stdout",
          "text": [
            "[[0. 0. 0.]\n",
            " [0. 0. 0.]]\n",
            "[[1. 1. 1.]\n",
            " [1. 1. 1.]]\n",
            "[[1. 1. 1.]\n",
            " [1. 1. 1.]]\n",
            "[[1. 0. 0.]\n",
            " [0. 1. 0.]\n",
            " [0. 0. 1.]]\n"
          ]
        }
      ]
    },
    {
      "cell_type": "code",
      "source": [
        "# Create a 1D array with values from 0 to 9\n",
        "f = np.arange(10)\n",
        "print(f)\n",
        "\n",
        "# Create a 1D array with 5 values evenly spaced between 0 and 1\n",
        "g = np.linspace(0, 1, 5)\n",
        "print(g)"
      ],
      "metadata": {
        "colab": {
          "base_uri": "https://localhost:8080/"
        },
        "id": "mj3qWOfgGTCf",
        "outputId": "5b6eba76-472e-43f7-cdda-09aca331456c"
      },
      "execution_count": null,
      "outputs": [
        {
          "output_type": "stream",
          "name": "stdout",
          "text": [
            "[0 1 2 3 4 5 6 7 8 9]\n",
            "[0.   0.25 0.5  0.75 1.  ]\n"
          ]
        }
      ]
    },
    {
      "cell_type": "code",
      "source": [
        "# Create a 1D array of 12 elements\n",
        "h = np.arange(12)\n",
        "print(h)\n",
        "\n",
        "# Reshape the array to a 3x4 matrix\n",
        "i = np.reshape(h, (3, 4))\n",
        "print(i)\n",
        "\n",
        "# Flatten the matrix to a 1D array\n",
        "j = np.ravel(i)\n",
        "print(j)"
      ],
      "metadata": {
        "colab": {
          "base_uri": "https://localhost:8080/"
        },
        "id": "YlU6pvpDGpxE",
        "outputId": "d0f2e78b-4e46-4a14-f7b8-ad4e9fc4e255"
      },
      "execution_count": null,
      "outputs": [
        {
          "output_type": "stream",
          "name": "stdout",
          "text": [
            "[ 0  1  2  3  4  5  6  7  8  9 10 11]\n",
            "[[ 0  1  2  3]\n",
            " [ 4  5  6  7]\n",
            " [ 8  9 10 11]]\n",
            "[ 0  1  2  3  4  5  6  7  8  9 10 11]\n"
          ]
        }
      ]
    },
    {
      "cell_type": "code",
      "source": [
        "# Create a 2D array of shape (2, 3)\n",
        "k = np.array([[1, 2, 3], [4, 5, 6]])\n",
        "print(k)\n",
        "\n",
        "# Calculate the sum of the array\n",
        "l = np.sum(k)\n",
        "print(l)\n",
        "\n",
        "# Calculate the sum of the array along the rows\n",
        "m = np.sum(k, axis=0)\n",
        "print(m)\n",
        "\n",
        "# Calculate the sum of the array along the columns\n",
        "n = np.sum(k, axis=1)\n",
        "print(n)\n",
        "\n",
        "# Calculate the maximum of the array\n",
        "o = np.max(k)\n",
        "print(o)\n",
        "\n",
        "# Calculate the minimum of the array\n",
        "p = np.min(k)\n",
        "print(p)\n",
        "\n",
        "# Calculate the square root of the array\n",
        "q = np.sqrt(k)\n",
        "print(q)"
      ],
      "metadata": {
        "colab": {
          "base_uri": "https://localhost:8080/"
        },
        "id": "UFTrq-NLGra2",
        "outputId": "d827e3ab-cb45-4007-ac24-82af9988b2e4"
      },
      "execution_count": null,
      "outputs": [
        {
          "output_type": "stream",
          "name": "stdout",
          "text": [
            "[[1 2 3]\n",
            " [4 5 6]]\n",
            "21\n",
            "[5 7 9]\n",
            "[ 6 15]\n",
            "6\n",
            "1\n",
            "[[1.         1.41421356 1.73205081]\n",
            " [2.         2.23606798 2.44948974]]\n"
          ]
        }
      ]
    },
    {
      "cell_type": "code",
      "source": [
        "# Create a 2D array of shape (2, 3)\n",
        "r = np.array([[1, 2, 3], [4, 5, 6]])\n",
        "print(r)\n",
        "\n",
        "# Transpose the array\n",
        "s = np.transpose(r)\n",
        "print(s)\n",
        "\n",
        "# Transpose the array using the attribute .T\n",
        "t = r.T\n",
        "print(t)"
      ],
      "metadata": {
        "colab": {
          "base_uri": "https://localhost:8080/"
        },
        "id": "3Z2d60kPGxs6",
        "outputId": "7ff33d1a-6914-461a-e0d3-04d463a7b037"
      },
      "execution_count": null,
      "outputs": [
        {
          "output_type": "stream",
          "name": "stdout",
          "text": [
            "[[1 2 3]\n",
            " [4 5 6]]\n",
            "[[1 4]\n",
            " [2 5]\n",
            " [3 6]]\n",
            "[[1 4]\n",
            " [2 5]\n",
            " [3 6]]\n"
          ]
        }
      ]
    },
    {
      "cell_type": "code",
      "source": [
        "# Create two 2D arrays of shape (2, 3)\n",
        "ab = np.array([[1, 2, 3], [4, 5, 6]])\n",
        "ac = np.array([[7, 8, 9], [10, 11, 12]])\n",
        "print(ab)\n",
        "print(ac)\n",
        "\n",
        "# Perform matrix addition on ab and ac\n",
        "ad = ab + ac\n",
        "print(ad)\n",
        "\n",
        "# Perform matrix addition on ab and ac using np.add\n",
        "ae = np.add(ab, ac)\n",
        "print(ae)\n",
        "\n",
        "# Perform matrix multiplication on ab and ac\n",
        "af = ab * ac\n",
        "print(af)\n",
        "\n",
        "# Perform matrix multiplication on ab and ac using np.multiply\n",
        "ag = np.multiply(ab, ac)\n",
        "print(ag)"
      ],
      "metadata": {
        "id": "jb9QSezoG1yP",
        "colab": {
          "base_uri": "https://localhost:8080/"
        },
        "outputId": "3d7b8865-284b-49bd-ee22-3e4ba54de32d"
      },
      "execution_count": null,
      "outputs": [
        {
          "output_type": "stream",
          "name": "stdout",
          "text": [
            "[[1 2 3]\n",
            " [4 5 6]]\n",
            "[[ 7  8  9]\n",
            " [10 11 12]]\n",
            "[[ 8 10 12]\n",
            " [14 16 18]]\n",
            "[[ 8 10 12]\n",
            " [14 16 18]]\n",
            "[[ 7 16 27]\n",
            " [40 55 72]]\n",
            "[[ 7 16 27]\n",
            " [40 55 72]]\n"
          ]
        }
      ]
    },
    {
      "cell_type": "code",
      "source": [
        "# Create two 2D arrays of shape (2, 3)\n",
        "a = np.array([[1, 2, 3], [4, 5, 6]])\n",
        "b = np.array([[7, 8, 9], [10, 11, 12]])\n",
        "print(a)\n",
        "print(b)\n",
        "\n",
        "# Perform subtraction on a and b\n",
        "c = a - b\n",
        "print(c)\n",
        "\n",
        "# Perform subtraction on a and b using np.subtract\n",
        "d = np.subtract(a, b)\n",
        "print(d)"
      ],
      "metadata": {
        "colab": {
          "base_uri": "https://localhost:8080/"
        },
        "id": "aUZXQzYRHUs6",
        "outputId": "645ec423-e34d-4c14-f5dd-7ced60771eb0"
      },
      "execution_count": null,
      "outputs": [
        {
          "output_type": "stream",
          "name": "stdout",
          "text": [
            "[[1 2 3]\n",
            " [4 5 6]]\n",
            "[[ 7  8  9]\n",
            " [10 11 12]]\n",
            "[[-6 -6 -6]\n",
            " [-6 -6 -6]]\n",
            "[[-6 -6 -6]\n",
            " [-6 -6 -6]]\n"
          ]
        }
      ]
    },
    {
      "cell_type": "code",
      "source": [
        "# Create two 2D arrays of shape (2, 3)\n",
        "e = np.array([[1, 2, 3], [4, 5, 6]])\n",
        "f = np.array([[7, 8, 9], [10, 11, 12]])\n",
        "print(e)\n",
        "print(f)\n",
        "\n",
        "# Perform division on e and f\n",
        "g = e / f\n",
        "print(g)\n",
        "\n",
        "# Perform division on e and f using np.divide\n",
        "h = np.divide(e, f)\n",
        "print(h)"
      ],
      "metadata": {
        "id": "UOl6Wws_Hc16",
        "outputId": "a185c88b-4fa4-42d1-8faa-02083449009a",
        "colab": {
          "base_uri": "https://localhost:8080/"
        }
      },
      "execution_count": null,
      "outputs": [
        {
          "output_type": "stream",
          "name": "stdout",
          "text": [
            "[[1 2 3]\n",
            " [4 5 6]]\n",
            "[[ 7  8  9]\n",
            " [10 11 12]]\n",
            "[[0.14285714 0.25       0.33333333]\n",
            " [0.4        0.45454545 0.5       ]]\n",
            "[[0.14285714 0.25       0.33333333]\n",
            " [0.4        0.45454545 0.5       ]]\n"
          ]
        }
      ]
    }
  ]
}