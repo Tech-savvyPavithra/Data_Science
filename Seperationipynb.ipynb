{
  "nbformat": 4,
  "nbformat_minor": 0,
  "metadata": {
    "colab": {
      "provenance": [],
      "authorship_tag": "ABX9TyO/+vJmq1SQwtaMi5Fw+RZy",
      "include_colab_link": true
    },
    "kernelspec": {
      "name": "python3",
      "display_name": "Python 3"
    },
    "language_info": {
      "name": "python"
    }
  },
  "cells": [
    {
      "cell_type": "markdown",
      "metadata": {
        "id": "view-in-github",
        "colab_type": "text"
      },
      "source": [
        "<a href=\"https://colab.research.google.com/github/Tech-savvyPavithra/Data_Science/blob/main/Seperationipynb.ipynb\" target=\"_parent\"><img src=\"https://colab.research.google.com/assets/colab-badge.svg\" alt=\"Open In Colab\"/></a>"
      ]
    },
    {
      "cell_type": "code",
      "execution_count": null,
      "metadata": {
        "colab": {
          "base_uri": "https://localhost:8080/"
        },
        "id": "JwfaOodw-UY7",
        "outputId": "226ee64c-2dc9-4889-88d7-43bf9f2c8da7"
      },
      "outputs": [
        {
          "output_type": "stream",
          "name": "stdout",
          "text": [
            "Created file: maximum_weight_recommendation.csv\n"
          ]
        }
      ],
      "source": [
        "import pandas as pd\n",
        "\n",
        "# Load the CSV file\n",
        "file_path = '/content/train.csv'  # Replace with your actual file path\n",
        "data = pd.read_csv(file_path)\n",
        "\n",
        "# List of target entity names\n",
        "entity_names = ['width', 'depth', 'height', 'item_weight','maximum_weight_recommendation','voltage', 'wattage', 'item_volume']\n",
        "\n",
        "# Loop through each entity name and save filtered data to respective CSV files\n",
        "for entity in entity_names:\n",
        "    filtered_data = data[data['entity_name'] == entity]\n",
        "    output_file = f'{entity}.csv'  # Save file with the entity name\n",
        "    filtered_data.to_csv(output_file, index=False)\n",
        "    print(f\"Created file: {output_file}\")\n"
      ]
    }
  ]
}