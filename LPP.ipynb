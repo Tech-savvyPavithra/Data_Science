{
  "nbformat": 4,
  "nbformat_minor": 0,
  "metadata": {
    "colab": {
      "provenance": [],
      "authorship_tag": "ABX9TyPIi+gc/7NRCrYmMJ8xw24l",
      "include_colab_link": true
    },
    "kernelspec": {
      "name": "python3",
      "display_name": "Python 3"
    },
    "language_info": {
      "name": "python"
    }
  },
  "cells": [
    {
      "cell_type": "markdown",
      "metadata": {
        "id": "view-in-github",
        "colab_type": "text"
      },
      "source": [
        "<a href=\"https://colab.research.google.com/github/Tech-savvyPavithra/Data_Science/blob/main/LPP.ipynb\" target=\"_parent\"><img src=\"https://colab.research.google.com/assets/colab-badge.svg\" alt=\"Open In Colab\"/></a>"
      ]
    },
    {
      "cell_type": "code",
      "execution_count": null,
      "metadata": {
        "colab": {
          "base_uri": "https://localhost:8080/"
        },
        "id": "bYswb0hRNChw",
        "outputId": "799f7cba-b477-492b-9951-d51acad07d13"
      },
      "outputs": [
        {
          "output_type": "stream",
          "name": "stdout",
          "text": [
            "Collecting pulp\n",
            "  Downloading PuLP-2.8.0-py3-none-any.whl (17.7 MB)\n",
            "\u001b[2K     \u001b[90m━━━━━━━━━━━━━━━━━━━━━━━━━━━━━━━━━━━━━━━━\u001b[0m \u001b[32m17.7/17.7 MB\u001b[0m \u001b[31m36.6 MB/s\u001b[0m eta \u001b[36m0:00:00\u001b[0m\n",
            "\u001b[?25hInstalling collected packages: pulp\n",
            "Successfully installed pulp-2.8.0\n",
            "Food allocation: 100.0\n",
            "Medicine allocation: 50.0\n",
            "Water allocation: 200.0\n"
          ]
        }
      ],
      "source": [
        "!pip install pulp\n",
        "from pulp import *\n",
        "\n",
        "# Define the problem\n",
        "prob = LpProblem(\"Supply_Demand_Allocation\", LpMinimize)\n",
        "\n",
        "# Decision Variables\n",
        "food = LpVariable(\"Food\", lowBound=0)\n",
        "medicine = LpVariable(\"Medicine\", lowBound=0)\n",
        "water = LpVariable(\"Water\", lowBound=0)\n",
        "\n",
        "# Objective Function\n",
        "prob += 10*food + 15*medicine + 5*water  # Adjust coefficients according to priorities\n",
        "\n",
        "# Constraints\n",
        "prob += food >= 100  # Demand for food\n",
        "prob += medicine >= 50  # Demand for medicine\n",
        "prob += water >= 200  # Demand for water\n",
        "\n",
        "prob += food + medicine + water <= 500  # Supply constraint\n",
        "\n",
        "# Solve the problem\n",
        "prob.solve()\n",
        "\n",
        "# Print the results\n",
        "print(\"Food allocation:\", value(food))\n",
        "print(\"Medicine allocation:\", value(medicine))\n",
        "print(\"Water allocation:\", value(water))"
      ]
    }
  ]
}