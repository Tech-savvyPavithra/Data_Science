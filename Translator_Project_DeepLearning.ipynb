{
  "nbformat": 4,
  "nbformat_minor": 0,
  "metadata": {
    "colab": {
      "provenance": [],
      "authorship_tag": "ABX9TyNiDO6B2QQEOV/nApjY38/p",
      "include_colab_link": true
    },
    "kernelspec": {
      "name": "python3",
      "display_name": "Python 3"
    },
    "language_info": {
      "name": "python"
    }
  },
  "cells": [
    {
      "cell_type": "markdown",
      "metadata": {
        "id": "view-in-github",
        "colab_type": "text"
      },
      "source": [
        "<a href=\"https://colab.research.google.com/github/Tech-savvyPavithra/Data_Science/blob/main/Translator_Project_DeepLearning.ipynb\" target=\"_parent\"><img src=\"https://colab.research.google.com/assets/colab-badge.svg\" alt=\"Open In Colab\"/></a>"
      ]
    },
    {
      "cell_type": "code",
      "execution_count": null,
      "metadata": {
        "colab": {
          "base_uri": "https://localhost:8080/"
        },
        "id": "r_jJmu0DnZsD",
        "outputId": "364e2114-ea70-405f-a5ae-28ac12497774"
      },
      "outputs": [
        {
          "output_type": "stream",
          "name": "stdout",
          "text": [
            "You: नाम\n",
            "Enter target language (e.g., 'es' for Spanish): en\n",
            "Translator Chatbot: Name\n"
          ]
        }
      ],
      "source": [
        "!pip install googletrans==4.0.0-rc1\n",
        "\n",
        "from googletrans import Translator\n",
        "from IPython.display import clear_output\n",
        "\n",
        "def translate_text(text, target_language='fr'or'es'or'ja'or'de'or'hi'):\n",
        "    translator = Translator()\n",
        "    translation = translator.translate(text, dest=target_language)\n",
        "    return translation.text\n",
        "\n",
        "def chatbot():\n",
        "    print(\"Welcome to the Translator Chatbot!\")\n",
        "    print(\"Type 'exit' to end the conversation.\")\n",
        "\n",
        "    while True:\n",
        "        user_input = input(\"You: \")\n",
        "\n",
        "        if user_input.lower() == 'exit':\n",
        "            print(\"Translator Chatbot: Goodbye!\")\n",
        "            break\n",
        "\n",
        "        target_language = input(\"Enter target language (e.g., 'es' for Spanish): \")\n",
        "        translated_text = translate_text(user_input, target_language)\n",
        "\n",
        "        print(f\"Translator Chatbot: {translated_text}\")\n",
        "        clear_output(wait=True)\n",
        "\n",
        "if __name__ == '__main__':\n",
        "    chatbot()"
      ]
    }
  ]
}