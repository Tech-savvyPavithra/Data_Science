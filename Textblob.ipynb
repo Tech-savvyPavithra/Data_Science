{
  "nbformat": 4,
  "nbformat_minor": 0,
  "metadata": {
    "colab": {
      "provenance": [],
      "authorship_tag": "ABX9TyMR0fe38DN6s1UeSj+dTdL+",
      "include_colab_link": true
    },
    "kernelspec": {
      "name": "python3",
      "display_name": "Python 3"
    },
    "language_info": {
      "name": "python"
    }
  },
  "cells": [
    {
      "cell_type": "markdown",
      "metadata": {
        "id": "view-in-github",
        "colab_type": "text"
      },
      "source": [
        "<a href=\"https://colab.research.google.com/github/Tech-savvyPavithra/Data_Science/blob/main/Textblob.ipynb\" target=\"_parent\"><img src=\"https://colab.research.google.com/assets/colab-badge.svg\" alt=\"Open In Colab\"/></a>"
      ]
    },
    {
      "cell_type": "code",
      "execution_count": null,
      "metadata": {
        "colab": {
          "base_uri": "https://localhost:8080/"
        },
        "id": "36WiGWlRwnMY",
        "outputId": "f197b8b9-95a6-46d3-fc46-81de86f5add3"
      },
      "outputs": [
        {
          "output_type": "stream",
          "name": "stdout",
          "text": [
            "Requirement already satisfied: textblob in /usr/local/lib/python3.10/dist-packages (0.17.1)\n",
            "Requirement already satisfied: nltk>=3.1 in /usr/local/lib/python3.10/dist-packages (from textblob) (3.8.1)\n",
            "Requirement already satisfied: click in /usr/local/lib/python3.10/dist-packages (from nltk>=3.1->textblob) (8.1.7)\n",
            "Requirement already satisfied: joblib in /usr/local/lib/python3.10/dist-packages (from nltk>=3.1->textblob) (1.3.2)\n",
            "Requirement already satisfied: regex>=2021.8.3 in /usr/local/lib/python3.10/dist-packages (from nltk>=3.1->textblob) (2023.6.3)\n",
            "Requirement already satisfied: tqdm in /usr/local/lib/python3.10/dist-packages (from nltk>=3.1->textblob) (4.66.1)\n"
          ]
        }
      ],
      "source": [
        "pip install textblob"
      ]
    },
    {
      "cell_type": "code",
      "source": [
        "# Spelling Correction\n",
        "from textblob import TextBlob\n",
        "text=\"\"\"ABCD Corp alays values their employees!!!\"\"\"\n",
        "print(text)"
      ],
      "metadata": {
        "colab": {
          "base_uri": "https://localhost:8080/"
        },
        "id": "-14fI0KfyGJA",
        "outputId": "61942fdb-60e2-4f31-8b7c-7008b9408181"
      },
      "execution_count": null,
      "outputs": [
        {
          "output_type": "stream",
          "name": "stdout",
          "text": [
            "ABCD Corp alays values their employees!!!\n"
          ]
        }
      ]
    },
    {
      "cell_type": "code",
      "source": [
        "blob=TextBlob(text)\n",
        "blob"
      ],
      "metadata": {
        "colab": {
          "base_uri": "https://localhost:8080/"
        },
        "id": "tU9p9F83zoU8",
        "outputId": "ab56a15e-c55d-4b20-9e89-580d021a3920"
      },
      "execution_count": null,
      "outputs": [
        {
          "output_type": "execute_result",
          "data": {
            "text/plain": [
              "TextBlob(\"ABCD Corp alays values their employees!!!\")"
            ]
          },
          "metadata": {},
          "execution_count": 24
        }
      ]
    },
    {
      "cell_type": "code",
      "source": [
        "blob.correct()"
      ],
      "metadata": {
        "colab": {
          "base_uri": "https://localhost:8080/"
        },
        "id": "JPqrouvX1w2t",
        "outputId": "b82e3b38-4e7e-4f97-a959-9a906ab9f23f"
      },
      "execution_count": null,
      "outputs": [
        {
          "output_type": "execute_result",
          "data": {
            "text/plain": [
              "TextBlob(\"ABCD For always values their employees!!!\")"
            ]
          },
          "metadata": {},
          "execution_count": 25
        }
      ]
    },
    {
      "cell_type": "code",
      "source": [
        "TextBlob('hass').correct()"
      ],
      "metadata": {
        "colab": {
          "base_uri": "https://localhost:8080/"
        },
        "id": "wDCZX5Bj1PAT",
        "outputId": "e4b8b557-f3ee-4ff8-b061-a26a55170987"
      },
      "execution_count": null,
      "outputs": [
        {
          "output_type": "execute_result",
          "data": {
            "text/plain": [
              "TextBlob(\"has\")"
            ]
          },
          "metadata": {},
          "execution_count": 19
        }
      ]
    },
    {
      "cell_type": "code",
      "source": [
        "TextBlob('ur').correct()"
      ],
      "metadata": {
        "colab": {
          "base_uri": "https://localhost:8080/"
        },
        "id": "xaZmooTb1Ydo",
        "outputId": "17176ec1-f13d-493f-b7b5-917fb96843be"
      },
      "execution_count": null,
      "outputs": [
        {
          "output_type": "execute_result",
          "data": {
            "text/plain": [
              "TextBlob(\"or\")"
            ]
          },
          "metadata": {},
          "execution_count": 21
        }
      ]
    },
    {
      "cell_type": "code",
      "source": [
        "import nltk\n",
        "nltk.download('punkt')"
      ],
      "metadata": {
        "colab": {
          "base_uri": "https://localhost:8080/"
        },
        "id": "X6t7cxFb2vQO",
        "outputId": "bae687b1-8d96-4dbd-c12e-d10675de3f4d"
      },
      "execution_count": null,
      "outputs": [
        {
          "output_type": "stream",
          "name": "stderr",
          "text": [
            "[nltk_data] Downloading package punkt to /root/nltk_data...\n",
            "[nltk_data]   Package punkt is already up-to-date!\n"
          ]
        },
        {
          "output_type": "execute_result",
          "data": {
            "text/plain": [
              "True"
            ]
          },
          "metadata": {},
          "execution_count": 31
        }
      ]
    },
    {
      "cell_type": "code",
      "source": [
        "# Word Count\n",
        "\n",
        "text=\"sentiment Analysis is a process by which we can find the sentiment of a text. sentiment can be positive,negative or neutral.\"\n",
        "blob=TextBlob(text)\n",
        "blob.word_counts[\"analysis\"]"
      ],
      "metadata": {
        "colab": {
          "base_uri": "https://localhost:8080/"
        },
        "id": "1fzOeHuc1fkF",
        "outputId": "c5bb6ae4-adfd-418f-9b84-69b12c014c17"
      },
      "execution_count": null,
      "outputs": [
        {
          "output_type": "execute_result",
          "data": {
            "text/plain": [
              "1"
            ]
          },
          "metadata": {},
          "execution_count": 49
        }
      ]
    },
    {
      "cell_type": "code",
      "source": [
        "blob.word_counts[\"Sentiment\"]"
      ],
      "metadata": {
        "colab": {
          "base_uri": "https://localhost:8080/"
        },
        "id": "hhq1U4Ju2y14",
        "outputId": "25eed797-f0f4-4439-8a16-d61b0e86e010"
      },
      "execution_count": null,
      "outputs": [
        {
          "output_type": "execute_result",
          "data": {
            "text/plain": [
              "0"
            ]
          },
          "metadata": {},
          "execution_count": 51
        }
      ]
    },
    {
      "cell_type": "code",
      "source": [
        "blob.word_counts[\"sentiment\"]"
      ],
      "metadata": {
        "colab": {
          "base_uri": "https://localhost:8080/"
        },
        "id": "lxWn2VEP28Jx",
        "outputId": "673f60c6-e9c0-4c78-cc93-4727db50264f"
      },
      "execution_count": null,
      "outputs": [
        {
          "output_type": "execute_result",
          "data": {
            "text/plain": [
              "3"
            ]
          },
          "metadata": {},
          "execution_count": 50
        }
      ]
    },
    {
      "cell_type": "code",
      "source": [
        "blob.word_counts[\"Analysis\"]"
      ],
      "metadata": {
        "colab": {
          "base_uri": "https://localhost:8080/"
        },
        "id": "kGYXOfDb3oaw",
        "outputId": "70188631-a574-434f-b9ee-4ecac502bd3d"
      },
      "execution_count": null,
      "outputs": [
        {
          "output_type": "execute_result",
          "data": {
            "text/plain": [
              "0"
            ]
          },
          "metadata": {},
          "execution_count": 52
        }
      ]
    },
    {
      "cell_type": "code",
      "source": [
        "import nltk\n",
        "nltk.download('averaged_perceptron_tagger')"
      ],
      "metadata": {
        "colab": {
          "base_uri": "https://localhost:8080/"
        },
        "id": "ksDUf4S_4bqy",
        "outputId": "5a761c9b-ad53-4e0d-fdfc-8d1b7d5f872d"
      },
      "execution_count": null,
      "outputs": [
        {
          "output_type": "stream",
          "name": "stderr",
          "text": [
            "[nltk_data] Downloading package averaged_perceptron_tagger to\n",
            "[nltk_data]     /root/nltk_data...\n",
            "[nltk_data]   Unzipping taggers/averaged_perceptron_tagger.zip.\n"
          ]
        },
        {
          "output_type": "execute_result",
          "data": {
            "text/plain": [
              "True"
            ]
          },
          "metadata": {},
          "execution_count": 55
        }
      ]
    },
    {
      "cell_type": "code",
      "source": [
        "# POS Tagging\n",
        "\n",
        "from textblob import TextBlob\n",
        "text=TextBlob(\"My name is Adam. I like to read about NLP. I work at ABCD Corp.\")\n",
        "print(text.tags)"
      ],
      "metadata": {
        "colab": {
          "base_uri": "https://localhost:8080/"
        },
        "id": "y-6H6vvQ3sr5",
        "outputId": "1e0e69a6-a980-4c0d-d305-c6c39176c8a1"
      },
      "execution_count": null,
      "outputs": [
        {
          "output_type": "stream",
          "name": "stdout",
          "text": [
            "[('My', 'PRP$'), ('name', 'NN'), ('is', 'VBZ'), ('Adam', 'NNP'), ('I', 'PRP'), ('like', 'VBP'), ('to', 'TO'), ('read', 'VB'), ('about', 'IN'), ('NLP', 'NNP'), ('I', 'PRP'), ('work', 'VBP'), ('at', 'IN'), ('ABCD', 'NNP'), ('Corp', 'NNP')]\n"
          ]
        }
      ]
    },
    {
      "cell_type": "code",
      "source": [
        "new_tuple=[]\n",
        "for i in text.tags:\n",
        "    print(i)\n",
        "    if 'VBP' not in i[1]:\n",
        "        new_tuple.append(i)\n",
        "new_tuple"
      ],
      "metadata": {
        "colab": {
          "base_uri": "https://localhost:8080/"
        },
        "id": "kuL_KaIE4kIt",
        "outputId": "a955ca9b-af3a-447c-b01f-4030f9410678"
      },
      "execution_count": null,
      "outputs": [
        {
          "output_type": "stream",
          "name": "stdout",
          "text": [
            "('My', 'PRP$')\n",
            "('name', 'NN')\n",
            "('is', 'VBZ')\n",
            "('Adam', 'NNP')\n",
            "('I', 'PRP')\n",
            "('like', 'VBP')\n",
            "('to', 'TO')\n",
            "('read', 'VB')\n",
            "('about', 'IN')\n",
            "('NLP', 'NNP')\n",
            "('I', 'PRP')\n",
            "('work', 'VBP')\n",
            "('at', 'IN')\n",
            "('ABCD', 'NNP')\n",
            "('Corp', 'NNP')\n"
          ]
        },
        {
          "output_type": "execute_result",
          "data": {
            "text/plain": [
              "[('My', 'PRP$'),\n",
              " ('name', 'NN'),\n",
              " ('is', 'VBZ'),\n",
              " ('Adam', 'NNP'),\n",
              " ('I', 'PRP'),\n",
              " ('to', 'TO'),\n",
              " ('read', 'VB'),\n",
              " ('about', 'IN'),\n",
              " ('NLP', 'NNP'),\n",
              " ('I', 'PRP'),\n",
              " ('at', 'IN'),\n",
              " ('ABCD', 'NNP'),\n",
              " ('Corp', 'NNP')]"
            ]
          },
          "metadata": {},
          "execution_count": 58
        }
      ]
    },
    {
      "cell_type": "code",
      "source": [
        "value=''\n",
        "for i in new_tuple:\n",
        "    value=value+\" \"+\"\".join(i[0])\n",
        "value"
      ],
      "metadata": {
        "colab": {
          "base_uri": "https://localhost:8080/",
          "height": 53
        },
        "id": "qmSLefG95G63",
        "outputId": "de02d9d5-14f3-403b-92a4-9dd05077ed31"
      },
      "execution_count": null,
      "outputs": [
        {
          "output_type": "execute_result",
          "data": {
            "text/plain": [
              "' My name is Adam I to read about NLP I at ABCD Corp'"
            ],
            "application/vnd.google.colaboratory.intrinsic+json": {
              "type": "string"
            }
          },
          "metadata": {},
          "execution_count": 61
        }
      ]
    },
    {
      "cell_type": "code",
      "source": [
        "text=\"\"\"R is a comprehensive statistical jargoon and graphical programming language.\"\"\"\n",
        "blob_object=TextBlob(text)\n",
        "corpus_words=blob_object.words\n",
        "corpus_words"
      ],
      "metadata": {
        "colab": {
          "base_uri": "https://localhost:8080/"
        },
        "id": "hHdgwIFq5gzr",
        "outputId": "bf2b0a39-95d5-40bf-fdc6-f0a74b52ef22"
      },
      "execution_count": null,
      "outputs": [
        {
          "output_type": "execute_result",
          "data": {
            "text/plain": [
              "WordList(['R', 'is', 'a', 'comprehensive', 'statistical', 'jargoon', 'and', 'graphical', 'programming', 'language'])"
            ]
          },
          "metadata": {},
          "execution_count": 64
        }
      ]
    },
    {
      "cell_type": "code",
      "source": [
        "corpus_sentences=blob_object.sentences\n",
        "corpus_sentences"
      ],
      "metadata": {
        "colab": {
          "base_uri": "https://localhost:8080/"
        },
        "id": "8iXV5iZy-ETo",
        "outputId": "104390bd-488b-413b-bb27-49d377591281"
      },
      "execution_count": null,
      "outputs": [
        {
          "output_type": "execute_result",
          "data": {
            "text/plain": [
              "[Sentence(\"R is a comprehensive statistical jargoon and graphical programming language.\")]"
            ]
          },
          "metadata": {},
          "execution_count": 65
        }
      ]
    },
    {
      "cell_type": "code",
      "source": [
        "print(len(corpus_sentences))"
      ],
      "metadata": {
        "colab": {
          "base_uri": "https://localhost:8080/"
        },
        "id": "_ZWdxCdD-S28",
        "outputId": "239d1396-2e18-4bb3-9f78-4b680dd61a6a"
      },
      "execution_count": null,
      "outputs": [
        {
          "output_type": "stream",
          "name": "stdout",
          "text": [
            "1\n"
          ]
        }
      ]
    },
    {
      "cell_type": "code",
      "source": [
        "# Pluralization of words using Textblob\n",
        "from textblob import Word\n",
        "w=Word('Platform')\n",
        "w.pluralize()"
      ],
      "metadata": {
        "colab": {
          "base_uri": "https://localhost:8080/",
          "height": 35
        },
        "id": "J-CbjM6m-a_3",
        "outputId": "9bbacbcc-43af-48b7-805e-ba41c267b677"
      },
      "execution_count": null,
      "outputs": [
        {
          "output_type": "execute_result",
          "data": {
            "text/plain": [
              "'Platforms'"
            ],
            "application/vnd.google.colaboratory.intrinsic+json": {
              "type": "string"
            }
          },
          "metadata": {},
          "execution_count": 69
        }
      ]
    },
    {
      "cell_type": "code",
      "source": [
        "w=Word('Platforms')\n",
        "w.pluralize()"
      ],
      "metadata": {
        "colab": {
          "base_uri": "https://localhost:8080/",
          "height": 35
        },
        "id": "KYwKuSIq-6RP",
        "outputId": "67ceebad-87b8-41f5-bd59-b9823163c084"
      },
      "execution_count": null,
      "outputs": [
        {
          "output_type": "execute_result",
          "data": {
            "text/plain": [
              "'Platformss'"
            ],
            "application/vnd.google.colaboratory.intrinsic+json": {
              "type": "string"
            }
          },
          "metadata": {},
          "execution_count": 70
        }
      ]
    },
    {
      "cell_type": "code",
      "source": [
        "blob=TextBlob(\"Great Learning is a great platform to learn technology related stuffs.\")\n",
        "for Word,POS in blob.tags:\n",
        "    if POS=='NN':\n",
        "       print(Word.pluralize())"
      ],
      "metadata": {
        "colab": {
          "base_uri": "https://localhost:8080/"
        },
        "id": "LpuiWJRa--5r",
        "outputId": "97961089-b1b8-4057-9738-52cc7e40bb41"
      },
      "execution_count": null,
      "outputs": [
        {
          "output_type": "stream",
          "name": "stdout",
          "text": [
            "platforms\n",
            "technologies\n"
          ]
        }
      ]
    },
    {
      "cell_type": "code",
      "source": [
        "import nltk\n",
        "nltk.download('wordnet')\n",
        "from textblob import TextBlob"
      ],
      "metadata": {
        "colab": {
          "base_uri": "https://localhost:8080/"
        },
        "id": "lpSlYxRbBLpY",
        "outputId": "46bb02d5-6262-4ebd-fdf1-c129410bbc29"
      },
      "execution_count": null,
      "outputs": [
        {
          "output_type": "stream",
          "name": "stderr",
          "text": [
            "[nltk_data] Downloading package wordnet to /root/nltk_data...\n",
            "[nltk_data]   Package wordnet is already up-to-date!\n"
          ]
        }
      ]
    },
    {
      "cell_type": "code",
      "source": [
        "blob = TextBlob(\"Great Learning is a great platform to learn technology-related stuff.\")\n",
        "words = blob.words\n",
        "for word in words:\n",
        "    print(\"ORIGINAL:\", word, \"| LEMMA:\", word.lemmatize(), \"| STEM:\", word.stem())"
      ],
      "metadata": {
        "colab": {
          "base_uri": "https://localhost:8080/"
        },
        "id": "QjfKT3t5BdCu",
        "outputId": "b3f8a7d9-2d0c-4acd-96ec-5409e9a1cb85"
      },
      "execution_count": null,
      "outputs": [
        {
          "output_type": "stream",
          "name": "stdout",
          "text": [
            "ORIGINAL: Great | LEMMA: Great | STEM: great\n",
            "ORIGINAL: Learning | LEMMA: Learning | STEM: learn\n",
            "ORIGINAL: is | LEMMA: is | STEM: is\n",
            "ORIGINAL: a | LEMMA: a | STEM: a\n",
            "ORIGINAL: great | LEMMA: great | STEM: great\n",
            "ORIGINAL: platform | LEMMA: platform | STEM: platform\n",
            "ORIGINAL: to | LEMMA: to | STEM: to\n",
            "ORIGINAL: learn | LEMMA: learn | STEM: learn\n",
            "ORIGINAL: technology-related | LEMMA: technology-related | STEM: technology-rel\n",
            "ORIGINAL: stuff | LEMMA: stuff | STEM: stuff\n"
          ]
        }
      ]
    },
    {
      "cell_type": "code",
      "source": [
        "from textblob import Word\n",
        "\n",
        "w = Word('learning')\n",
        "lemmatized_word = w.lemmatize(\"n\")\n",
        "print(\"Original:\", w, \"| Lemmatized:\", lemmatized_word)"
      ],
      "metadata": {
        "colab": {
          "base_uri": "https://localhost:8080/"
        },
        "id": "29TADS35CLW3",
        "outputId": "d8dedab0-b2d1-44d2-b1db-f7fe5d51bab1"
      },
      "execution_count": null,
      "outputs": [
        {
          "output_type": "stream",
          "name": "stdout",
          "text": [
            "Original: learning | Lemmatized: learning\n"
          ]
        }
      ]
    },
    {
      "cell_type": "code",
      "source": [
        "from textblob import Word\n",
        "\n",
        "w = Word('learning')\n",
        "lemmatized_word = w.lemmatize(\"v\")\n",
        "print(\"Original:\", w, \"| Lemmatized:\", lemmatized_word)"
      ],
      "metadata": {
        "colab": {
          "base_uri": "https://localhost:8080/"
        },
        "id": "HWD4disOCNoV",
        "outputId": "f831b824-6673-405c-a3a9-d34fbcec6e15"
      },
      "execution_count": null,
      "outputs": [
        {
          "output_type": "stream",
          "name": "stdout",
          "text": [
            "Original: learning | Lemmatized: learn\n"
          ]
        }
      ]
    },
    {
      "cell_type": "code",
      "source": [
        "from textblob import Word\n",
        "\n",
        "w = Word('peoples')\n",
        "lemmatized_word = w.lemmatize(\"n\")\n",
        "print(\"Original:\", w, \"| Lemmatized:\", lemmatized_word)"
      ],
      "metadata": {
        "colab": {
          "base_uri": "https://localhost:8080/"
        },
        "id": "V1rHolN6CV_T",
        "outputId": "142c1bbc-d97a-4dc7-eff2-ab545c8b819e"
      },
      "execution_count": null,
      "outputs": [
        {
          "output_type": "stream",
          "name": "stdout",
          "text": [
            "Original: peoples | Lemmatized: people\n"
          ]
        }
      ]
    },
    {
      "cell_type": "code",
      "source": [
        "# n-gram in Textblob\n",
        "blob"
      ],
      "metadata": {
        "colab": {
          "base_uri": "https://localhost:8080/"
        },
        "id": "XQMIihcXCbAQ",
        "outputId": "0418946b-16ff-442c-cce9-3c2b0871d037"
      },
      "execution_count": null,
      "outputs": [
        {
          "output_type": "execute_result",
          "data": {
            "text/plain": [
              "TextBlob(\"Great Learning is a great platform to learn technology-related stuff.\")"
            ]
          },
          "metadata": {},
          "execution_count": 94
        }
      ]
    },
    {
      "cell_type": "code",
      "source": [
        "blob.ngrams(n=1)"
      ],
      "metadata": {
        "colab": {
          "base_uri": "https://localhost:8080/"
        },
        "id": "peZKtwGvCqb1",
        "outputId": "2b068814-4101-4ee8-f70e-5594f965a391"
      },
      "execution_count": null,
      "outputs": [
        {
          "output_type": "execute_result",
          "data": {
            "text/plain": [
              "[WordList(['Great']),\n",
              " WordList(['Learning']),\n",
              " WordList(['is']),\n",
              " WordList(['a']),\n",
              " WordList(['great']),\n",
              " WordList(['platform']),\n",
              " WordList(['to']),\n",
              " WordList(['learn']),\n",
              " WordList(['technology-related']),\n",
              " WordList(['stuff'])]"
            ]
          },
          "metadata": {},
          "execution_count": 95
        }
      ]
    },
    {
      "cell_type": "code",
      "source": [
        "blob.ngrams(n=2)"
      ],
      "metadata": {
        "colab": {
          "base_uri": "https://localhost:8080/"
        },
        "id": "nKNOi_wtCw5X",
        "outputId": "fe51d69d-c52c-4447-daf3-01fd696a81ba"
      },
      "execution_count": null,
      "outputs": [
        {
          "output_type": "execute_result",
          "data": {
            "text/plain": [
              "[WordList(['Great', 'Learning']),\n",
              " WordList(['Learning', 'is']),\n",
              " WordList(['is', 'a']),\n",
              " WordList(['a', 'great']),\n",
              " WordList(['great', 'platform']),\n",
              " WordList(['platform', 'to']),\n",
              " WordList(['to', 'learn']),\n",
              " WordList(['learn', 'technology-related']),\n",
              " WordList(['technology-related', 'stuff'])]"
            ]
          },
          "metadata": {},
          "execution_count": 96
        }
      ]
    },
    {
      "cell_type": "code",
      "source": [
        "blob.ngrams(n=3)"
      ],
      "metadata": {
        "colab": {
          "base_uri": "https://localhost:8080/"
        },
        "id": "TwBPZkiFC0uk",
        "outputId": "12b7f3f3-2eeb-491e-854a-d2bd11838e9d"
      },
      "execution_count": null,
      "outputs": [
        {
          "output_type": "execute_result",
          "data": {
            "text/plain": [
              "[WordList(['Great', 'Learning', 'is']),\n",
              " WordList(['Learning', 'is', 'a']),\n",
              " WordList(['is', 'a', 'great']),\n",
              " WordList(['a', 'great', 'platform']),\n",
              " WordList(['great', 'platform', 'to']),\n",
              " WordList(['platform', 'to', 'learn']),\n",
              " WordList(['to', 'learn', 'technology-related']),\n",
              " WordList(['learn', 'technology-related', 'stuff'])]"
            ]
          },
          "metadata": {},
          "execution_count": 97
        }
      ]
    },
    {
      "cell_type": "code",
      "source": [
        "blob.ngrams(n=4)"
      ],
      "metadata": {
        "colab": {
          "base_uri": "https://localhost:8080/"
        },
        "id": "WMw7Z3ykC6IC",
        "outputId": "97f8d200-e811-49b7-b7db-63697ab4150e"
      },
      "execution_count": null,
      "outputs": [
        {
          "output_type": "execute_result",
          "data": {
            "text/plain": [
              "[WordList(['Great', 'Learning', 'is', 'a']),\n",
              " WordList(['Learning', 'is', 'a', 'great']),\n",
              " WordList(['is', 'a', 'great', 'platform']),\n",
              " WordList(['a', 'great', 'platform', 'to']),\n",
              " WordList(['great', 'platform', 'to', 'learn']),\n",
              " WordList(['platform', 'to', 'learn', 'technology-related']),\n",
              " WordList(['to', 'learn', 'technology-related', 'stuff'])]"
            ]
          },
          "metadata": {},
          "execution_count": 98
        }
      ]
    }
  ]
}