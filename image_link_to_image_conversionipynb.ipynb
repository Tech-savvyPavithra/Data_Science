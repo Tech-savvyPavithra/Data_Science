{
  "nbformat": 4,
  "nbformat_minor": 0,
  "metadata": {
    "colab": {
      "provenance": [],
      "authorship_tag": "ABX9TyMFWxqT2zzaqaKchTVofYlO",
      "include_colab_link": true
    },
    "kernelspec": {
      "name": "python3",
      "display_name": "Python 3"
    },
    "language_info": {
      "name": "python"
    }
  },
  "cells": [
    {
      "cell_type": "markdown",
      "metadata": {
        "id": "view-in-github",
        "colab_type": "text"
      },
      "source": [
        "<a href=\"https://colab.research.google.com/github/Tech-savvyPavithra/Data_Science/blob/main/image_link_to_image_conversionipynb.ipynb\" target=\"_parent\"><img src=\"https://colab.research.google.com/assets/colab-badge.svg\" alt=\"Open In Colab\"/></a>"
      ]
    },
    {
      "cell_type": "code",
      "execution_count": null,
      "metadata": {
        "id": "f3qqrhkcFBgt"
      },
      "outputs": [],
      "source": [
        "import pandas as pd\n",
        "import requests\n",
        "from PIL import Image\n",
        "from io import BytesIO\n",
        "import os\n",
        "\n",
        "# Load the CSV file\n",
        "file_path = 'path/to/your/train.csv'  # Replace with your actual file path\n",
        "data = pd.read_csv(file_path)\n",
        "\n",
        "# Directory to save the downloaded images\n",
        "image_dir = 'downloaded_images'\n",
        "os.makedirs(image_dir, exist_ok=True)  # Create directory if it doesn't exist\n",
        "\n",
        "# Function to download and save an image from a URL\n",
        "def download_image(image_url, image_name):\n",
        "    try:\n",
        "        response = requests.get(image_url)\n",
        "        response.raise_for_status()  # Check if the request was successful\n",
        "        img = Image.open(BytesIO(response.content))\n",
        "        img_format = img.format if img.format else 'JPEG'  # Default format is JPEG\n",
        "        img.save(os.path.join(image_dir, f\"{image_name}.{img_format.lower()}\"), img_format)\n",
        "        print(f\"Image saved: {image_name}.{img_format.lower()}\")\n",
        "    except Exception as e:\n",
        "        print(f\"Failed to download {image_url}: {e}\")\n",
        "\n",
        "# Iterate over each row in the data and download the images\n",
        "for index, row in data.iterrows():\n",
        "    image_url = row['image_link']\n",
        "    image_name = f'image_{index}'  # You can customize the naming convention\n",
        "    download_image(image_url, image_name)\n"
      ]
    }
  ]
}