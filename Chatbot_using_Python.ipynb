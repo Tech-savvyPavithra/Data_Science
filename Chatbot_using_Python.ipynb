{
  "nbformat": 4,
  "nbformat_minor": 0,
  "metadata": {
    "colab": {
      "provenance": [],
      "authorship_tag": "ABX9TyPSj94CJI6PC8baRWuiZED8",
      "include_colab_link": true
    },
    "kernelspec": {
      "name": "python3",
      "display_name": "Python 3"
    },
    "language_info": {
      "name": "python"
    }
  },
  "cells": [
    {
      "cell_type": "markdown",
      "metadata": {
        "id": "view-in-github",
        "colab_type": "text"
      },
      "source": [
        "<a href=\"https://colab.research.google.com/github/Tech-savvyPavithra/Data_Science/blob/main/Chatbot_using_Python.ipynb\" target=\"_parent\"><img src=\"https://colab.research.google.com/assets/colab-badge.svg\" alt=\"Open In Colab\"/></a>"
      ]
    },
    {
      "cell_type": "code",
      "execution_count": null,
      "metadata": {
        "colab": {
          "base_uri": "https://localhost:8080/"
        },
        "id": "B7Pg3REEEZMO",
        "outputId": "81951801-d0f8-4dd5-afe8-ae128d41f32f"
      },
      "outputs": [
        {
          "output_type": "stream",
          "name": "stdout",
          "text": [
            "Drive already mounted at /content/drive; to attempt to forcibly remount, call drive.mount(\"/content/drive\", force_remount=True).\n"
          ]
        }
      ],
      "source": [
        "from google.colab import drive\n",
        "drive.mount('/content/drive')"
      ]
    },
    {
      "cell_type": "markdown",
      "source": [
        "Importing the required Libraries"
      ],
      "metadata": {
        "id": "Hoy8ynnpGFBZ"
      }
    },
    {
      "cell_type": "code",
      "source": [
        "import numpy as np\n",
        "import nltk\n",
        "import string\n",
        "import random"
      ],
      "metadata": {
        "id": "RG2JtjD-GKYB"
      },
      "execution_count": null,
      "outputs": []
    },
    {
      "cell_type": "markdown",
      "source": [
        "Importing and reading the corpus"
      ],
      "metadata": {
        "id": "bLjVXKCKGkI4"
      }
    },
    {
      "cell_type": "code",
      "source": [
        "file_path = '/content/drive/MyDrive/Colab Notebooks/My Workouts/Chatbot.txt'\n",
        "with open(file_path, 'r') as f:\n",
        "    raw_doc = f.read()\n",
        "raw_doc=raw_doc.lower() #Converts text to lowercase\n",
        "print(raw_doc)\n",
        "nltk.download('punkt') #Using the Punkt tokenizer\n",
        "nltk.download('wordnet') #Using the WordNet dictionary\n",
        "sent_tokens=nltk.sent_tokenize(raw_doc) #Converts doc to list of sentences\n",
        "word_tokens =nltk.word_tokenize(raw_doc) #Converts doc to list of wc"
      ],
      "metadata": {
        "colab": {
          "base_uri": "https://localhost:8080/"
        },
        "id": "bPwQV1HBFp4j",
        "outputId": "15ccd8e9-0a5d-4545-da25-991eb26c0782"
      },
      "execution_count": null,
      "outputs": [
        {
          "output_type": "stream",
          "name": "stdout",
          "text": [
            "﻿data science is an interdisciplinary academic field[1] that uses statistics, scientific computing, scientific methods, processes, algorithms and systems to extract or extrapolate knowledge and insights from potentially noisy, structured, or unstructured data.[2]\n",
            "\n",
            "\n",
            "the existence of comet neowise (here depicted as a series of red dots) was discovered by analyzing astronomical survey data acquired by a space telescope, the wide-field infrared survey explorer.\n",
            "data science also integrates domain knowledge from the underlying application domain (e.g., natural sciences, information technology, and medicine).[3] data science is multifaceted and can be described as a science, a research paradigm, a research method, a discipline, a workflow, and a profession.[4]\n",
            "\n",
            "data science is a \"concept to unify statistics, data analysis, informatics, and their related methods\" to \"understand and analyze actual phenomena\" with data.[5] it uses techniques and theories drawn from many fields within the context of mathematics, statistics, computer science, information science, and domain knowledge.[6] however, data science is different from computer science and information science. turing award winner jim gray imagined data science as a \"fourth paradigm\" of science (empirical, theoretical, computational, and now data-driven) and asserted that \"everything about science is changing because of the impact of information technology\" and the data deluge.[7][8]\n",
            "\n",
            "a data scientist is a professional who creates programming code and combines it with statistical knowledge to create insights from data.[9]\n",
            "\n",
            "foundations\n",
            "edit\n",
            "data science is an interdisciplinary field[10] focused on extracting knowledge from typically large data sets and applying the knowledge and insights from that data to solve problems in a wide range of application domains. the field encompasses preparing data for analysis, formulating data science problems, analyzing data, developing data-driven solutions, and presenting findings to inform high-level decisions in a broad range of application domains. as such, it incorporates skills from computer science, statistics, information science, mathematics, data visualization, information visualization, data sonification, data integration, graphic design, complex systems, communication and business.[11][12] statistician nathan yau, drawing on ben fry, also links data science to human–computer interaction: users should be able to intuitively control and explore data.[13][14] in 2015, the american statistical association identified database management, statistics and machine learning, and distributed and parallel systems as the three emerging foundational professional communities.[15]\n",
            "\n",
            "relationship to statistics\n",
            "edit\n",
            "many statisticians, including nate silver, have argued that data science is not a new field, but rather another name for statistics.[16] others argue that data science is distinct from statistics because it focuses on problems and techniques unique to digital data.[17] vasant dhar writes that statistics emphasizes quantitative data and description. in contrast, data science deals with quantitative and qualitative data (e.g., from images, text, sensors, transactions, customer information, etc.) and emphasizes prediction and action.[18] andrew gelman of columbia university has described statistics as a non-essential part of data science.[19]\n",
            "\n",
            "stanford professor david donoho writes that data science is not distinguished from statistics by the size of datasets or use of computing and that many graduate programs misleadingly advertise their analytics and statistics training as the essence of a data-science program. he describes data science as an applied field growing out of traditional statistics.[20]\n",
            "\n",
            "etymology\n",
            "edit\n",
            "early usage\n",
            "edit\n",
            "in 1962, john tukey described a field he called \"data analysis\", which resembles modern data science.[20] in 1985, in a lecture given to the chinese academy of sciences in beijing, c. f. jeff wu used the term \"data science\" for the first time as an alternative name for statistics.[21] later, attendees at a 1992 statistics symposium at the university of montpellier  ii acknowledged the emergence of a new discipline focused on data of various origins and forms, combining established concepts and principles of statistics and data analysis with computing.[22][23]\n",
            "\n",
            "the term \"data science\" has been traced back to 1974, when peter naur proposed it as an alternative name to computer science.[6] in 1996, the international federation of classification societies became the first conference to specifically feature data science as a topic.[6] however, the definition was still in flux. after the 1985 lecture at the chinese academy of sciences in beijing, in 1997 c. f. jeff wu again suggested that statistics should be renamed data science. he reasoned that a new name would help statistics shed inaccurate stereotypes, such as being synonymous with accounting or limited to describing data.[24] in 1998, hayashi chikio argued for data science as a new, interdisciplinary concept, with three aspects: data design, collection, and analysis.[23]\n",
            "\n",
            "during the 1990s, popular terms for the process of finding patterns in datasets (which were increasingly large) included \"knowledge discovery\" and \"data mining\".[6][25]\n",
            "\n",
            "modern usage\n",
            "edit\n",
            "in 2012, technologists thomas h. davenport and dj patil declared \"data scientist: the sexiest job of the 21st century\",[26] a catchphrase that was picked up even by major-city newspapers like the new york times[27] and the boston globe.[28] a decade later, they reaffirmed it, stating that \"the job is more in demand than ever with employers\".[29]\n",
            "\n",
            "the modern conception of data science as an independent discipline is sometimes attributed to william s. cleveland.[30] in a 2001 paper, he advocated an expansion of statistics beyond theory into technical areas; because this would significantly change the field, it warranted a new name.[25] \"data science\" became more widely used in the next few years: in 2002, the committee on data for science and technology launched the data science journal. in 2003, columbia university launched the journal of data science.[25] in 2014, the american statistical association's section on statistical learning and data mining changed its name to the section on statistical learning and data science, reflecting the ascendant popularity of data science.[31]\n",
            "\n",
            "the professional title of \"data scientist\" has been attributed to dj patil and jeff hammerbacher in 2008.[32] though it was used by the national science board in their 2005 report \"long-lived digital data collections: enabling research and education in the 21st century\", it referred broadly to any key role in managing a digital data collection.[33]\n",
            "\n",
            "there is still no consensus on the definition of data science, and it is considered by some to be a buzzword.[34] big data is a related marketing term.[35] data scientists are responsible for breaking down big data into usable information and creating software and algorithms that help companies and organizations determine optimal operations.[36]\n",
            "\n",
            "data science and data analysis\n",
            "edit\n",
            "data science and data analysis are both important disciplines in the field of data management and analysis, but they differ in several key ways. while both fields involve working with data, data science is more of an interdisciplinary field that involves the application of statistical, computational, and machine learning methods to extract insights from data and make predictions, while data analysis is more focused on the examination and interpretation of data to identify patterns and trends.[37][38]\n",
            "\n",
            "data analysis typically involves working with smaller, structured datasets to answer specific questions or solve specific problems. this can involve tasks such as data cleaning, data visualization, and exploratory data analysis to gain insights into the data and develop hypotheses about relationships between variables. data analysts typically use statistical methods to test these hypotheses and draw conclusions from the data. for example, a data analyst might analyze sales data to identify trends in customer behavior and make recommendations for marketing strategies.[37]\n",
            "\n",
            "data science, on the other hand, is a more complex and iterative process that involves working with larger, more complex datasets that often require advanced computational and statistical methods to analyze. data scientists often work with unstructured data such as text or images and use machine learning algorithms to build predictive models and make data-driven decisions. in addition to statistical analysis, data science often involves tasks such as data preprocessing, feature engineering, and model selection. for instance, a data scientist might develop a recommendation system for an e-commerce platform by analyzing user behavior patterns and using machine learning algorithms to predict user preferences.[38][39]\n",
            "\n",
            "while data analysis focuses on extracting insights from existing data, data science goes beyond that by incorporating the development and implementation of predictive models to make informed decisions. data scientists are often responsible for collecting and cleaning data, selecting appropriate analytical techniques, and deploying models in real-world scenarios. they work at the intersection of mathematics, computer science, and domain expertise to solve complex problems and uncover hidden patterns in large datasets.[38]\n",
            "\n",
            "despite these differences, data science and data analysis are closely related fields and often require similar skill sets. both fields require a solid foundation in statistics, programming, and data visualization, as well as the ability to communicate findings effectively to both technical and non-technical audiences. moreover, both fields benefit from critical thinking and domain knowledge, as understanding the context and nuances of the data is essential for accurate analysis and modeling.[37][38]\n",
            "\n",
            "in summary, data analysis and data science are distinct yet interconnected disciplines within the broader field of data management and analysis. data analysis focuses on extracting insights and drawing conclusions from structured data, while data science involves a more comprehensive approach that combines statistical analysis, computational methods, and machine learning to extract insights, build predictive models, and drive data-driven decision-making. both fields play vital roles in leveraging the power of data to understand patterns, make informed decisions, and solve complex problems across various domains\n",
            "\n"
          ]
        },
        {
          "output_type": "stream",
          "name": "stderr",
          "text": [
            "[nltk_data] Downloading package punkt to /root/nltk_data...\n",
            "[nltk_data]   Package punkt is already up-to-date!\n",
            "[nltk_data] Downloading package wordnet to /root/nltk_data...\n",
            "[nltk_data]   Package wordnet is already up-to-date!\n"
          ]
        }
      ]
    },
    {
      "cell_type": "markdown",
      "source": [
        "Example of sentence tokens"
      ],
      "metadata": {
        "id": "9fPBZAnUIeCe"
      }
    },
    {
      "cell_type": "code",
      "source": [
        "sent_tokens[:2]"
      ],
      "metadata": {
        "colab": {
          "base_uri": "https://localhost:8080/"
        },
        "id": "mTz023BsIh1Y",
        "outputId": "e9817479-7f48-4497-f024-b73fef5597b4"
      },
      "execution_count": null,
      "outputs": [
        {
          "output_type": "execute_result",
          "data": {
            "text/plain": [
              "['\\ufeffbusiness intelligence comprises the strategies and technologies used by enterprises for the data analysis and management of business information.',\n",
              " '[1] common functions of business intelligence technologies include reporting, online analytical processing, analytics, dashboard development, data mining, process mining, complex event processing, business performance management, benchmarking, text mining, predictive analytics, and prescriptive analytics.']"
            ]
          },
          "metadata": {},
          "execution_count": 60
        }
      ]
    },
    {
      "cell_type": "markdown",
      "source": [
        "Example of word tokens"
      ],
      "metadata": {
        "id": "VJ9U0fMPIykB"
      }
    },
    {
      "cell_type": "code",
      "source": [
        "word_tokens[:2]"
      ],
      "metadata": {
        "colab": {
          "base_uri": "https://localhost:8080/"
        },
        "id": "NLDQLWasI2AC",
        "outputId": "265e102d-6d60-46ca-e654-dc6a7beab6de"
      },
      "execution_count": null,
      "outputs": [
        {
          "output_type": "execute_result",
          "data": {
            "text/plain": [
              "['\\ufeffdata', 'science']"
            ]
          },
          "metadata": {},
          "execution_count": 76
        }
      ]
    },
    {
      "cell_type": "markdown",
      "source": [
        "Text preprocessing"
      ],
      "metadata": {
        "id": "nzHMP0e0I7Le"
      }
    },
    {
      "cell_type": "code",
      "source": [
        "lemmer=nltk.stem.WordNetLemmatizer() #WordNet is a semantically-oriented dictionary of English included in NLTK\n",
        "def LemTokens(tokens):\n",
        "   return[lemmer.lemmatize(token) for token in tokens]\n",
        "remove_punct_dict=dict((ord(punct),None)for punct in string.punctuation)\n",
        "def LemNormalize(text):\n",
        "   return LemTokens(nltk.word_tokenize(text.lower(). translate(remove_punct_dict)))"
      ],
      "metadata": {
        "id": "7pEx6J8BI-I_"
      },
      "execution_count": null,
      "outputs": []
    },
    {
      "cell_type": "markdown",
      "source": [
        "Defining the greetings function"
      ],
      "metadata": {
        "id": "l6O0hLiqKW1q"
      }
    },
    {
      "cell_type": "code",
      "source": [
        "GREET_INPUTS=(\"hello\",\"hi\",\"greetings\",\"sup\",\"what's up\",\"hey\")\n",
        "GREET_RESPONSES=[\"hi\",\"hey\",\"*nods*\",\"hi there\",\"hello\",\"I am glad! You are talking to me\"]\n",
        "def greet(sentence):\n",
        "   for word in sentence.split():\n",
        "      if word.lower() in GREET_INPUTS:\n",
        "          return random.choice(GREET_RESPONSES)"
      ],
      "metadata": {
        "id": "lSqMQLTtKu9F"
      },
      "execution_count": null,
      "outputs": []
    },
    {
      "cell_type": "markdown",
      "source": [
        "Response generation"
      ],
      "metadata": {
        "id": "r4MKvA7LLm8Z"
      }
    },
    {
      "cell_type": "code",
      "source": [
        "from sklearn.feature_extraction.text import TfidfVectorizer\n",
        "from sklearn.metrics.pairwise import cosine_similarity\n",
        "def response(user_response):\n",
        "   robo1_response=''\n",
        "   TfidVec=TfidfVectorizer(tokenizer=LemNormalize,stop_words='english')\n",
        "   tfidf=TfidVec.fit_transform(sent_tokens)\n",
        "   vals=cosine_similarity(tfidf[-1],tfidf)\n",
        "   idx = vals.argsort()[0][-2]\n",
        "   flat=vals.flatten()\n",
        "   flat.sort()\n",
        "   req_tfidf = flat[-2]\n",
        "   if(req_tfidf==0):\n",
        "      robo1_response=robo1_response+\"I am sorry! I don't understand you\"\n",
        "      return robo1_response\n",
        "   else:\n",
        "      robo1_response=robo1_response+sent_tokens[idx]\n",
        "      return robo1_response"
      ],
      "metadata": {
        "id": "D6cj9WORLrD0"
      },
      "execution_count": null,
      "outputs": []
    },
    {
      "cell_type": "markdown",
      "source": [
        "Defining Conversation start/end protocols"
      ],
      "metadata": {
        "id": "vFENavaDUqWC"
      }
    },
    {
      "cell_type": "code",
      "source": [
        "flag=True\n",
        "print(\"BOT:My name is Stark.Let's have a conversation.Also,if you want to exit any time,just type Bye!\")\n",
        "while(flag==True):\n",
        "   user_response=input()\n",
        "   user_response=user_response.lower()\n",
        "   if(user_response!='bye'):\n",
        "      if(user_response=='thanks'or user_response=='thank you'):\n",
        "         flag=False\n",
        "         print(\"BOT:You are Welcome.\")\n",
        "      else:\n",
        "         if(greet(user_response)!=None):\n",
        "            print(\"BOT:\"+greet(user_response))\n",
        "         else:\n",
        "            sent_tokens.append(user_response)\n",
        "            word_tokens=word_tokens+nltk.word_tokenize(user_response)\n",
        "            final_words=list(set(word_tokens))\n",
        "            print(\"BOT:\",end=\"\")\n",
        "            print(response(user_response))\n",
        "            sent_tokens.remove(user_response)\n",
        "   else:\n",
        "      flag=False\n",
        "      print(\"BOT: Goodbye! Take Care <3\")"
      ],
      "metadata": {
        "colab": {
          "base_uri": "https://localhost:8080/"
        },
        "id": "XtLsV-fPUxHx",
        "outputId": "a3ff14ab-e5d8-47c1-ab7b-4f50577a66f7"
      },
      "execution_count": null,
      "outputs": [
        {
          "output_type": "stream",
          "name": "stdout",
          "text": [
            "BOT:My name is Stark.Let's have a conversation.Also,if you want to exit any time,just type Bye!\n",
            "Hey\n",
            "BOT:hi\n",
            "Data Science \n",
            "BOT:[6] however, data science is different from computer science and information science.\n",
            "Foundations\n",
            "BOT:both fields require a solid foundation in statistics, programming, and data visualization, as well as the ability to communicate findings effectively to both technical and non-technical audiences.\n",
            "Relationship to statistics \n",
            "BOT:[15]\n",
            "\n",
            "relationship to statistics\n",
            "edit\n",
            "many statisticians, including nate silver, have argued that data science is not a new field, but rather another name for statistics.\n",
            "Etymology \n",
            "BOT:[20]\n",
            "\n",
            "etymology\n",
            "edit\n",
            "early usage\n",
            "edit\n",
            "in 1962, john tukey described a field he called \"data analysis\", which resembles modern data science.\n"
          ]
        }
      ]
    }
  ]
}