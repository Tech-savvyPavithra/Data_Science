{
  "nbformat": 4,
  "nbformat_minor": 0,
  "metadata": {
    "colab": {
      "provenance": [],
      "authorship_tag": "ABX9TyOhiUocmLPMbVFhyQDIsTt+",
      "include_colab_link": true
    },
    "kernelspec": {
      "name": "python3",
      "display_name": "Python 3"
    },
    "language_info": {
      "name": "python"
    }
  },
  "cells": [
    {
      "cell_type": "markdown",
      "metadata": {
        "id": "view-in-github",
        "colab_type": "text"
      },
      "source": [
        "<a href=\"https://colab.research.google.com/github/Tech-savvyPavithra/Data_Science/blob/main/Article_Chatbot.ipynb\" target=\"_parent\"><img src=\"https://colab.research.google.com/assets/colab-badge.svg\" alt=\"Open In Colab\"/></a>"
      ]
    },
    {
      "cell_type": "code",
      "source": [
        "!pip install nltk\n",
        "!pip install newspaper3k"
      ],
      "metadata": {
        "colab": {
          "base_uri": "https://localhost:8080/"
        },
        "id": "t464rHG5BYjr",
        "outputId": "203eb578-e180-4383-c17b-13bc1bb0c897"
      },
      "execution_count": null,
      "outputs": [
        {
          "output_type": "stream",
          "name": "stdout",
          "text": [
            "Requirement already satisfied: nltk in /usr/local/lib/python3.10/dist-packages (3.8.1)\n",
            "Requirement already satisfied: click in /usr/local/lib/python3.10/dist-packages (from nltk) (8.1.7)\n",
            "Requirement already satisfied: joblib in /usr/local/lib/python3.10/dist-packages (from nltk) (1.3.2)\n",
            "Requirement already satisfied: regex>=2021.8.3 in /usr/local/lib/python3.10/dist-packages (from nltk) (2023.6.3)\n",
            "Requirement already satisfied: tqdm in /usr/local/lib/python3.10/dist-packages (from nltk) (4.66.1)\n",
            "Collecting newspaper3k\n",
            "  Downloading newspaper3k-0.2.8-py3-none-any.whl (211 kB)\n",
            "\u001b[2K     \u001b[90m━━━━━━━━━━━━━━━━━━━━━━━━━━━━━━━━━━━━━━━━\u001b[0m \u001b[32m211.1/211.1 kB\u001b[0m \u001b[31m4.4 MB/s\u001b[0m eta \u001b[36m0:00:00\u001b[0m\n",
            "\u001b[?25hRequirement already satisfied: beautifulsoup4>=4.4.1 in /usr/local/lib/python3.10/dist-packages (from newspaper3k) (4.11.2)\n",
            "Requirement already satisfied: Pillow>=3.3.0 in /usr/local/lib/python3.10/dist-packages (from newspaper3k) (9.4.0)\n",
            "Requirement already satisfied: PyYAML>=3.11 in /usr/local/lib/python3.10/dist-packages (from newspaper3k) (6.0.1)\n",
            "Collecting cssselect>=0.9.2 (from newspaper3k)\n",
            "  Downloading cssselect-1.2.0-py2.py3-none-any.whl (18 kB)\n",
            "Requirement already satisfied: lxml>=3.6.0 in /usr/local/lib/python3.10/dist-packages (from newspaper3k) (4.9.4)\n",
            "Requirement already satisfied: nltk>=3.2.1 in /usr/local/lib/python3.10/dist-packages (from newspaper3k) (3.8.1)\n",
            "Requirement already satisfied: requests>=2.10.0 in /usr/local/lib/python3.10/dist-packages (from newspaper3k) (2.31.0)\n",
            "Collecting feedparser>=5.2.1 (from newspaper3k)\n",
            "  Downloading feedparser-6.0.11-py3-none-any.whl (81 kB)\n",
            "\u001b[2K     \u001b[90m━━━━━━━━━━━━━━━━━━━━━━━━━━━━━━━━━━━━━━━━\u001b[0m \u001b[32m81.3/81.3 kB\u001b[0m \u001b[31m10.9 MB/s\u001b[0m eta \u001b[36m0:00:00\u001b[0m\n",
            "\u001b[?25hCollecting tldextract>=2.0.1 (from newspaper3k)\n",
            "  Downloading tldextract-5.1.1-py3-none-any.whl (97 kB)\n",
            "\u001b[2K     \u001b[90m━━━━━━━━━━━━━━━━━━━━━━━━━━━━━━━━━━━━━━━━\u001b[0m \u001b[32m97.7/97.7 kB\u001b[0m \u001b[31m9.6 MB/s\u001b[0m eta \u001b[36m0:00:00\u001b[0m\n",
            "\u001b[?25hCollecting feedfinder2>=0.0.4 (from newspaper3k)\n",
            "  Downloading feedfinder2-0.0.4.tar.gz (3.3 kB)\n",
            "  Preparing metadata (setup.py) ... \u001b[?25l\u001b[?25hdone\n",
            "Collecting jieba3k>=0.35.1 (from newspaper3k)\n",
            "  Downloading jieba3k-0.35.1.zip (7.4 MB)\n",
            "\u001b[2K     \u001b[90m━━━━━━━━━━━━━━━━━━━━━━━━━━━━━━━━━━━━━━━━\u001b[0m \u001b[32m7.4/7.4 MB\u001b[0m \u001b[31m18.0 MB/s\u001b[0m eta \u001b[36m0:00:00\u001b[0m\n",
            "\u001b[?25h  Preparing metadata (setup.py) ... \u001b[?25l\u001b[?25hdone\n",
            "Requirement already satisfied: python-dateutil>=2.5.3 in /usr/local/lib/python3.10/dist-packages (from newspaper3k) (2.8.2)\n",
            "Collecting tinysegmenter==0.3 (from newspaper3k)\n",
            "  Downloading tinysegmenter-0.3.tar.gz (16 kB)\n",
            "  Preparing metadata (setup.py) ... \u001b[?25l\u001b[?25hdone\n",
            "Requirement already satisfied: soupsieve>1.2 in /usr/local/lib/python3.10/dist-packages (from beautifulsoup4>=4.4.1->newspaper3k) (2.5)\n",
            "Requirement already satisfied: six in /usr/local/lib/python3.10/dist-packages (from feedfinder2>=0.0.4->newspaper3k) (1.16.0)\n",
            "Collecting sgmllib3k (from feedparser>=5.2.1->newspaper3k)\n",
            "  Downloading sgmllib3k-1.0.0.tar.gz (5.8 kB)\n",
            "  Preparing metadata (setup.py) ... \u001b[?25l\u001b[?25hdone\n",
            "Requirement already satisfied: click in /usr/local/lib/python3.10/dist-packages (from nltk>=3.2.1->newspaper3k) (8.1.7)\n",
            "Requirement already satisfied: joblib in /usr/local/lib/python3.10/dist-packages (from nltk>=3.2.1->newspaper3k) (1.3.2)\n",
            "Requirement already satisfied: regex>=2021.8.3 in /usr/local/lib/python3.10/dist-packages (from nltk>=3.2.1->newspaper3k) (2023.6.3)\n",
            "Requirement already satisfied: tqdm in /usr/local/lib/python3.10/dist-packages (from nltk>=3.2.1->newspaper3k) (4.66.1)\n",
            "Requirement already satisfied: charset-normalizer<4,>=2 in /usr/local/lib/python3.10/dist-packages (from requests>=2.10.0->newspaper3k) (3.3.2)\n",
            "Requirement already satisfied: idna<4,>=2.5 in /usr/local/lib/python3.10/dist-packages (from requests>=2.10.0->newspaper3k) (3.6)\n",
            "Requirement already satisfied: urllib3<3,>=1.21.1 in /usr/local/lib/python3.10/dist-packages (from requests>=2.10.0->newspaper3k) (2.0.7)\n",
            "Requirement already satisfied: certifi>=2017.4.17 in /usr/local/lib/python3.10/dist-packages (from requests>=2.10.0->newspaper3k) (2023.11.17)\n",
            "Collecting requests-file>=1.4 (from tldextract>=2.0.1->newspaper3k)\n",
            "  Downloading requests_file-2.0.0-py2.py3-none-any.whl (4.2 kB)\n",
            "Requirement already satisfied: filelock>=3.0.8 in /usr/local/lib/python3.10/dist-packages (from tldextract>=2.0.1->newspaper3k) (3.13.1)\n",
            "Building wheels for collected packages: tinysegmenter, feedfinder2, jieba3k, sgmllib3k\n",
            "  Building wheel for tinysegmenter (setup.py) ... \u001b[?25l\u001b[?25hdone\n",
            "  Created wheel for tinysegmenter: filename=tinysegmenter-0.3-py3-none-any.whl size=13538 sha256=655de520052b81bd7df4b5df614f45a121af2d612e8175b26fe578cc3ab02222\n",
            "  Stored in directory: /root/.cache/pip/wheels/c8/d6/6c/384f58df48c00b9a31d638005143b5b3ac62c3d25fb1447f23\n",
            "  Building wheel for feedfinder2 (setup.py) ... \u001b[?25l\u001b[?25hdone\n",
            "  Created wheel for feedfinder2: filename=feedfinder2-0.0.4-py3-none-any.whl size=3340 sha256=21e1ee2ffebdca419d1101ac9371614a62bb8a1cad6a8b26e44be1f2a0bb610c\n",
            "  Stored in directory: /root/.cache/pip/wheels/97/02/e7/a1ff1760e12bdbaab0ac824fae5c1bc933e41c4ccd6a8f8edb\n",
            "  Building wheel for jieba3k (setup.py) ... \u001b[?25l\u001b[?25hdone\n",
            "  Created wheel for jieba3k: filename=jieba3k-0.35.1-py3-none-any.whl size=7398381 sha256=830d06de3c995ae8d7a603fd40ee869f5a7d2e8d44a61cd13fa66db31cb8a76b\n",
            "  Stored in directory: /root/.cache/pip/wheels/7a/c4/0c/12a9a314ecac499456c4c3b2fcc2f635a3b45a39dfbd240299\n",
            "  Building wheel for sgmllib3k (setup.py) ... \u001b[?25l\u001b[?25hdone\n",
            "  Created wheel for sgmllib3k: filename=sgmllib3k-1.0.0-py3-none-any.whl size=6048 sha256=d77b3f1e30197bf8848a6454d257be6b1cf62542bf20d062e610aa4f6f081376\n",
            "  Stored in directory: /root/.cache/pip/wheels/f0/69/93/a47e9d621be168e9e33c7ce60524393c0b92ae83cf6c6e89c5\n",
            "Successfully built tinysegmenter feedfinder2 jieba3k sgmllib3k\n",
            "Installing collected packages: tinysegmenter, sgmllib3k, jieba3k, feedparser, cssselect, requests-file, feedfinder2, tldextract, newspaper3k\n",
            "Successfully installed cssselect-1.2.0 feedfinder2-0.0.4 feedparser-6.0.11 jieba3k-0.35.1 newspaper3k-0.2.8 requests-file-2.0.0 sgmllib3k-1.0.0 tinysegmenter-0.3 tldextract-5.1.1\n"
          ]
        }
      ]
    },
    {
      "cell_type": "code",
      "source": [
        "# import the libraries\n",
        "from newspaper import Article\n",
        "import random\n",
        "import string\n",
        "import nltk\n",
        "from sklearn.feature_extraction.text import CountVectorizer\n",
        "from sklearn.metrics.pairwise import cosine_similarity\n",
        "import numpy as np\n",
        "import warnings\n",
        "warnings.filterwarnings('ignore')"
      ],
      "metadata": {
        "id": "hr0Hchixt1ac"
      },
      "execution_count": null,
      "outputs": []
    },
    {
      "cell_type": "code",
      "source": [
        "# Download the punkt package\n",
        "nltk.download('punkt', quiet=True)"
      ],
      "metadata": {
        "colab": {
          "base_uri": "https://localhost:8080/"
        },
        "id": "VfUDuaTNt5-e",
        "outputId": "c8b505c2-db6a-4be8-f25b-a2689d3a9d3f"
      },
      "execution_count": null,
      "outputs": [
        {
          "output_type": "execute_result",
          "data": {
            "text/plain": [
              "True"
            ]
          },
          "metadata": {},
          "execution_count": 4
        }
      ]
    },
    {
      "cell_type": "code",
      "source": [
        "# get the article\n",
        "article = Article('https://www.geeksforgeeks.org/introduction-deep-learning/')\n",
        "article.download()\n",
        "article.parse()\n",
        "article.nlp()\n",
        "corpus = article.text"
      ],
      "metadata": {
        "id": "3jBgDXzZuDqP"
      },
      "execution_count": null,
      "outputs": []
    },
    {
      "cell_type": "code",
      "source": [
        "# print the article\n",
        "print(corpus)"
      ],
      "metadata": {
        "colab": {
          "base_uri": "https://localhost:8080/"
        },
        "id": "Bim4DRAxuGNJ",
        "outputId": "07238713-9293-40b3-8f7c-c22718048f3a"
      },
      "execution_count": null,
      "outputs": [
        {
          "output_type": "stream",
          "name": "stdout",
          "text": [
            "Deep learning is a branch of machine learning which is based on artificial neural networks. It is capable of learning complex patterns and relationships within data. In deep learning, we don’t need to explicitly program everything. It has become increasingly popular in recent years due to the advances in processing power and the availability of large datasets. Because it is based on artificial neural networks (ANNs) also known as deep neural networks (DNNs). These neural networks are inspired by the structure and function of the human brain’s biological neurons, and they are designed to learn from large amounts of data.\n",
            "\n",
            "Deep Learning is a subfield of Machine Learning that involves the use of neural networks to model and solve complex problems. Neural networks are modeled after the structure and function of the human brain and consist of layers of interconnected nodes that process and transform data. The key characteristic of Deep Learning is the use of deep neural networks, which have multiple layers of interconnected nodes. These networks can learn complex representations of data by discovering hierarchical patterns and features in the data. Deep Learning algorithms can automatically learn and improve from data without the need for manual feature engineering. Deep Learning has achieved significant success in various fields, including image recognition, natural language processing, speech recognition, and recommendation systems. Some of the popular Deep Learning architectures include Convolutional Neural Networks (CNNs), Recurrent Neural Networks (RNNs), and Deep Belief Networks (DBNs). Training deep neural networks typically requires a large amount of data and computational resources. However, the availability of cloud computing and the development of specialized hardware, such as Graphics Processing Units (GPUs), has made it easier to train deep neural networks.\n",
            "\n",
            "In summary, Deep Learning is a subfield of Machine Learning that involves the use of deep neural networks to model and solve complex problems. Deep Learning has achieved significant success in various fields, and its use is expected to continue to grow as more data becomes available, and more powerful computing resources become available.\n",
            "\n",
            "What is Deep Learning?\n",
            "\n",
            "Deep learning is the branch of machine learning which is based on artificial neural network architecture. An artificial neural network or ANN uses layers of interconnected nodes called neurons that work together to process and learn from the input data.\n",
            "\n",
            "In a fully connected Deep neural network, there is an input layer and one or more hidden layers connected one after the other. Each neuron receives input from the previous layer neurons or the input layer. The output of one neuron becomes the input to other neurons in the next layer of the network, and this process continues until the final layer produces the output of the network. The layers of the neural network transform the input data through a series of nonlinear transformations, allowing the network to learn complex representations of the input data.\n",
            "\n",
            "Today Deep learning has become one of the most popular and visible areas of machine learning, due to its success in a variety of applications, such as computer vision, natural language processing, and Reinforcement learning.\n",
            "\n",
            "Deep learning can be used for supervised, unsupervised as well as reinforcement machine learning. it uses a variety of ways to process these.\n",
            "\n",
            "Supervised Machine Learning: Supervised machine learning is the machine learning technique in which the neural network learns to make predictions or classify data based on the labeled datasets. Here we input both input features along with the target variables. the neural network learns to make predictions based on the cost or error that comes from the difference between the predicted and the actual target, this process is known as backpropagation. Deep learning algorithms like Convolutional neural networks, Recurrent neural networks are used for many supervised tasks like image classifications and recognization, sentiment analysis, language translations, etc.\n",
            "\n",
            "Supervised machine learning is the machine learning technique in which the neural network learns to make predictions or classify data based on the labeled datasets. Here we input both input features along with the target variables. the neural network learns to make predictions based on the cost or error that comes from the difference between the predicted and the actual target, this process is known as backpropagation. Deep learning algorithms like Convolutional neural networks, Recurrent neural networks are used for many supervised tasks like image classifications and recognization, sentiment analysis, language translations, etc. Unsupervised Machine Learning: Unsupervised machine learning is the machine learning technique in which the neural network learns to discover the patterns or to cluster the dataset based on unlabeled datasets. Here there are no target variables. while the machine has to self-determined the hidden patterns or relationships within the datasets. Deep learning algorithms like autoencoders and generative models are used for unsupervised tasks like clustering, dimensionality reduction, and anomaly detection.\n",
            "\n",
            "Unsupervised machine learning is the machine learning technique in which the neural network learns to discover the patterns or to cluster the dataset based on unlabeled datasets. Here there are no target variables. while the machine has to self-determined the hidden patterns or relationships within the datasets. Deep learning algorithms like autoencoders and generative models are used for unsupervised tasks like clustering, dimensionality reduction, and anomaly detection. Reinforcement Machine Learning: Reinforcement Machine Learning is the machine learning technique in which an agent learns to make decisions in an environment to maximize a reward signal. The agent interacts with the environment by taking action and observing the resulting rewards. Deep learning can be used to learn policies, or a set of actions, that maximizes the cumulative reward over time. Deep reinforcement learning algorithms like Deep Q networks and Deep Deterministic Policy Gradient (DDPG) are used to reinforce tasks like robotics and game playing etc.\n",
            "\n",
            "Artificial neural networks\n",
            "\n",
            "Artificial neural networks are built on the principles of the structure and operation of human neurons. It is also known as neural networks or neural nets. An artificial neural network’s input layer, which is the first layer, receives input from external sources and passes it on to the hidden layer, which is the second layer. Each neuron in the hidden layer gets information from the neurons in the previous layer, computes the weighted total, and then transfers it to the neurons in the next layer. These connections are weighted, which means that the impacts of the inputs from the preceding layer are more or less optimized by giving each input a distinct weight. These weights are then adjusted during the training process to enhance the performance of the model.\n",
            "\n",
            "Artificial neurons, also known as units, are found in artificial neural networks. The whole Artificial Neural Network is composed of these artificial neurons, which are arranged in a series of layers. The complexities of neural networks will depend on the complexities of the underlying patterns in the dataset whether a layer has a dozen units or millions of units. Commonly, Artificial Neural Network has an input layer, an output layer as well as hidden layers. The input layer receives data from the outside world which the neural network needs to analyze or learn about.\n",
            "\n",
            "In a fully connected artificial neural network, there is an input layer and one or more hidden layers connected one after the other. Each neuron receives input from the previous layer neurons or the input layer. The output of one neuron becomes the input to other neurons in the next layer of the network, and this process continues until the final layer produces the output of the network. Then, after passing through one or more hidden layers, this data is transformed into valuable data for the output layer. Finally, the output layer provides an output in the form of an artificial neural network’s response to the data that comes in.\n",
            "\n",
            "Units are linked to one another from one layer to another in the bulk of neural networks. Each of these links has weights that control how much one unit influences another. The neural network learns more and more about the data as it moves from one unit to another, ultimately producing an output from the output layer.\n",
            "\n",
            "Difference between Machine Learning and Deep Learning :\n",
            "\n",
            "machine learning and deep learning both are subsets of artificial intelligence but there are many similarities and differences between them.\n",
            "\n",
            "Machine Learning Deep Learning Apply statistical algorithms to learn the hidden patterns and relationships in the dataset. Uses artificial neural network architecture to learn the hidden patterns and relationships in the dataset. Can work on the smaller amount of dataset Requires the larger volume of dataset compared to machine learning Better for the low-label task. Better for complex task like image processing, natural language processing, etc. Takes less time to train the model. Takes more time to train the model. A model is created by relevant features which are manually extracted from images to detect an object in the image. Relevant features are automatically extracted from images. It is an end-to-end learning process. Less complex and easy to interpret the result. More complex, it works like the black box interpretations of the result are not easy. It can work on the CPU or requires less computing power as compared to deep learning. It requires a high-performance computer with GPU.\n",
            "\n",
            "Types of neural networks\n",
            "\n",
            "Deep Learning models are able to automatically learn features from the data, which makes them well-suited for tasks such as image recognition, speech recognition, and natural language processing. The most widely used architectures in deep learning are feedforward neural networks, convolutional neural networks (CNNs), and recurrent neural networks (RNNs).\n",
            "\n",
            "Feedforward neural networks (FNNs) are the simplest type of ANN, with a linear flow of information through the network. FNNs have been widely used for tasks such as image classification, speech recognition, and natural language processing.\n",
            "\n",
            "Convolutional Neural Networks (CNNs) are specifically for image and video recognition tasks. CNNs are able to automatically learn features from the images, which makes them well-suited for tasks such as image classification, object detection, and image segmentation.\n",
            "\n",
            "Recurrent Neural Networks (RNNs) are a type of neural network that is able to process sequential data, such as time series and natural language. RNNs are able to maintain an internal state that captures information about the previous inputs, which makes them well-suited for tasks such as speech recognition, natural language processing, and language translation.\n",
            "\n",
            "Applications of Deep Learning :\n",
            "\n",
            "The main applications of deep learning can be divided into computer vision, natural language processing (NLP), and reinforcement learning.\n",
            "\n",
            "In computer vision, Deep learning models can enable machines to identify and understand visual data. Some of the main applications of deep learning in computer vision include:\n",
            "\n",
            "Object detection and recognition: Deep learning model can be used to identify and locate objects within images and videos, making it possible for machines to perform tasks such as self-driving cars, surveillance, and robotics.\n",
            "\n",
            "Deep learning model can be used to identify and locate objects within images and videos, making it possible for machines to perform tasks such as self-driving cars, surveillance, and robotics. Image classification: Deep learning models can be used to classify images into categories such as animals, plants, and buildings. This is used in applications such as medical imaging, quality control, and image retrieval.\n",
            "\n",
            "Deep learning models can be used to classify images into categories such as animals, plants, and buildings. This is used in applications such as medical imaging, quality control, and image retrieval. Image segmentation: Deep learning models can be used for image segmentation into different regions, making it possible to identify specific features within images.\n",
            "\n",
            "In NLP, the Deep learning model can enable machines to understand and generate human language. Some of the main applications of deep learning in NLP include:\n",
            "\n",
            "Automatic Text Generation – Deep learning model can learn the corpus of text and new text like summaries, essays can be automatically generated using these trained models.\n",
            "\n",
            "– Deep learning model can learn the corpus of text and new text like summaries, essays can be automatically generated using these trained models. Language translation: Deep learning models can translate text from one language to another, making it possible to communicate with people from different linguistic backgrounds.\n",
            "\n",
            "Deep learning models can translate text from one language to another, making it possible to communicate with people from different linguistic backgrounds. Sentiment analysis: Deep learning models can analyze the sentiment of a piece of text, making it possible to determine whether the text is positive, negative, or neutral. This is used in applications such as customer service, social media monitoring, and political analysis.\n",
            "\n",
            "Deep learning models can analyze the sentiment of a piece of text, making it possible to determine whether the text is positive, negative, or neutral. This is used in applications such as customer service, social media monitoring, and political analysis. Speech recognition: Deep learning models can recognize and transcribe spoken words, making it possible to perform tasks such as speech-to-text conversion, voice search, and voice-controlled devices.\n",
            "\n",
            "In reinforcement learning, deep learning works as training agents to take action in an environment to maximize a reward. Some of the main applications of deep learning in reinforcement learning include:\n",
            "\n",
            "Game playing: Deep reinforcement learning models have been able to beat human experts at games such as Go, Chess, and Atari.\n",
            "\n",
            "Deep reinforcement learning models have been able to beat human experts at games such as Go, Chess, and Atari. Robotics: Deep reinforcement learning models can be used to train robots to perform complex tasks such as grasping objects, navigation, and manipulation.\n",
            "\n",
            "Deep reinforcement learning models can be used to train robots to perform complex tasks such as grasping objects, navigation, and manipulation. Control systems: Deep reinforcement learning models can be used to control complex systems such as power grids, traffic management, and supply chain optimization.\n",
            "\n",
            "Challenges in Deep Learning\n",
            "\n",
            "Deep learning has made significant advancements in various fields, but there are still some challenges that need to be addressed. Here are some of the main challenges in deep learning:\n",
            "\n",
            "Data availability: It requires large amounts of data to learn from. For using deep learning it’s a big concern to gather as much data for training. Computational Resources: For training the deep learning model, it is computationally expensive because it requires specialized hardware like GPUs and TPUs. Time-consuming: While working on sequential data depending on the computational resource it can take very large even in days or months. Interpretability: Deep learning models are complex, it works like a black box. it is very difficult to interpret the result. Overfitting: when the model is trained again and again, it becomes too specialized for the training data, leading to overfitting and poor performance on new data.\n",
            "\n",
            "Advantages of Deep Learning:\n",
            "\n",
            "High accuracy: Deep Learning algorithms can achieve state-of-the-art performance in various tasks, such as image recognition and natural language processing. Automated feature engineering: Deep Learning algorithms can automatically discover and learn relevant features from data without the need for manual feature engineering. Scalability: Deep Learning models can scale to handle large and complex datasets, and can learn from massive amounts of data. Flexibility: Deep Learning models can be applied to a wide range of tasks and can handle various types of data, such as images, text, and speech. Continual improvement: Deep Learning models can continually improve their performance as more data becomes available.\n",
            "\n",
            "Disadvantages of Deep Learning:\n",
            "\n",
            "High computational requirements: Deep Learning models require large amounts of data and computational resources to train and optimize. Requires large amounts of labeled data: Deep Learning models often require a large amount of labeled data for training, which can be expensive and time- consuming to acquire. Interpretability: Deep Learning models can be challenging to interpret, making it difficult to understand how they make decisions.\n",
            "\n",
            "Overfitting: Deep Learning models can sometimes overfit to the training data, resulting in poor performance on new and unseen data. Black-box nature: Deep Learning models are often treated as black boxes, making it difficult to understand how they work and how they arrived at their predictions.\n",
            "\n",
            "In summary, while Deep Learning offers many advantages, including high accuracy and scalability, it also has some disadvantages, such as high computational requirements, the need for large amounts of labeled data, and interpretability challenges. These limitations need to be carefully considered when deciding whether to use Deep Learning for a specific task.\n",
            "\n",
            "Don't miss your chance to ride the wave of the data revolution! Every industry is scaling new heights by tapping into the power of data. Sharpen your skills and become a part of the hottest trend in the 21st century. Dive into the future of technology - explore the Complete Machine Learning and Data Science Program by GeeksforGeeks and stay ahead of the curve.\n",
            "\n",
            "Last Updated : 14 Apr, 2023 Like Article Save Article\n",
            "\n",
            "Share your thoughts in the comments Add Your Comment\n"
          ]
        }
      ]
    },
    {
      "cell_type": "code",
      "source": [
        "# Tokenization\n",
        "text = corpus\n",
        "sentence_list = nltk.sent_tokenize(text)  # a list of sentences"
      ],
      "metadata": {
        "id": "shWHRAKjuJeu"
      },
      "execution_count": null,
      "outputs": []
    },
    {
      "cell_type": "code",
      "source": [
        "# print the list of sentences\n",
        "print(sentence_list)"
      ],
      "metadata": {
        "colab": {
          "base_uri": "https://localhost:8080/"
        },
        "id": "R-KkQVkfuR_s",
        "outputId": "62dc0968-2cc4-4a2e-d948-0974bda59c01"
      },
      "execution_count": null,
      "outputs": [
        {
          "output_type": "stream",
          "name": "stdout",
          "text": [
            "['Deep learning is a branch of machine learning which is based on artificial neural networks.', 'It is capable of learning complex patterns and relationships within data.', 'In deep learning, we don’t need to explicitly program everything.', 'It has become increasingly popular in recent years due to the advances in processing power and the availability of large datasets.', 'Because it is based on artificial neural networks (ANNs) also known as deep neural networks (DNNs).', 'These neural networks are inspired by the structure and function of the human brain’s biological neurons, and they are designed to learn from large amounts of data.', 'Deep Learning is a subfield of Machine Learning that involves the use of neural networks to model and solve complex problems.', 'Neural networks are modeled after the structure and function of the human brain and consist of layers of interconnected nodes that process and transform data.', 'The key characteristic of Deep Learning is the use of deep neural networks, which have multiple layers of interconnected nodes.', 'These networks can learn complex representations of data by discovering hierarchical patterns and features in the data.', 'Deep Learning algorithms can automatically learn and improve from data without the need for manual feature engineering.', 'Deep Learning has achieved significant success in various fields, including image recognition, natural language processing, speech recognition, and recommendation systems.', 'Some of the popular Deep Learning architectures include Convolutional Neural Networks (CNNs), Recurrent Neural Networks (RNNs), and Deep Belief Networks (DBNs).', 'Training deep neural networks typically requires a large amount of data and computational resources.', 'However, the availability of cloud computing and the development of specialized hardware, such as Graphics Processing Units (GPUs), has made it easier to train deep neural networks.', 'In summary, Deep Learning is a subfield of Machine Learning that involves the use of deep neural networks to model and solve complex problems.', 'Deep Learning has achieved significant success in various fields, and its use is expected to continue to grow as more data becomes available, and more powerful computing resources become available.', 'What is Deep Learning?', 'Deep learning is the branch of machine learning which is based on artificial neural network architecture.', 'An artificial neural network or ANN uses layers of interconnected nodes called neurons that work together to process and learn from the input data.', 'In a fully connected Deep neural network, there is an input layer and one or more hidden layers connected one after the other.', 'Each neuron receives input from the previous layer neurons or the input layer.', 'The output of one neuron becomes the input to other neurons in the next layer of the network, and this process continues until the final layer produces the output of the network.', 'The layers of the neural network transform the input data through a series of nonlinear transformations, allowing the network to learn complex representations of the input data.', 'Today Deep learning has become one of the most popular and visible areas of machine learning, due to its success in a variety of applications, such as computer vision, natural language processing, and Reinforcement learning.', 'Deep learning can be used for supervised, unsupervised as well as reinforcement machine learning.', 'it uses a variety of ways to process these.', 'Supervised Machine Learning: Supervised machine learning is the machine learning technique in which the neural network learns to make predictions or classify data based on the labeled datasets.', 'Here we input both input features along with the target variables.', 'the neural network learns to make predictions based on the cost or error that comes from the difference between the predicted and the actual target, this process is known as backpropagation.', 'Deep learning algorithms like Convolutional neural networks, Recurrent neural networks are used for many supervised tasks like image classifications and recognization, sentiment analysis, language translations, etc.', 'Supervised machine learning is the machine learning technique in which the neural network learns to make predictions or classify data based on the labeled datasets.', 'Here we input both input features along with the target variables.', 'the neural network learns to make predictions based on the cost or error that comes from the difference between the predicted and the actual target, this process is known as backpropagation.', 'Deep learning algorithms like Convolutional neural networks, Recurrent neural networks are used for many supervised tasks like image classifications and recognization, sentiment analysis, language translations, etc.', 'Unsupervised Machine Learning: Unsupervised machine learning is the machine learning technique in which the neural network learns to discover the patterns or to cluster the dataset based on unlabeled datasets.', 'Here there are no target variables.', 'while the machine has to self-determined the hidden patterns or relationships within the datasets.', 'Deep learning algorithms like autoencoders and generative models are used for unsupervised tasks like clustering, dimensionality reduction, and anomaly detection.', 'Unsupervised machine learning is the machine learning technique in which the neural network learns to discover the patterns or to cluster the dataset based on unlabeled datasets.', 'Here there are no target variables.', 'while the machine has to self-determined the hidden patterns or relationships within the datasets.', 'Deep learning algorithms like autoencoders and generative models are used for unsupervised tasks like clustering, dimensionality reduction, and anomaly detection.', 'Reinforcement Machine Learning: Reinforcement Machine Learning is the machine learning technique in which an agent learns to make decisions in an environment to maximize a reward signal.', 'The agent interacts with the environment by taking action and observing the resulting rewards.', 'Deep learning can be used to learn policies, or a set of actions, that maximizes the cumulative reward over time.', 'Deep reinforcement learning algorithms like Deep Q networks and Deep Deterministic Policy Gradient (DDPG) are used to reinforce tasks like robotics and game playing etc.', 'Artificial neural networks\\n\\nArtificial neural networks are built on the principles of the structure and operation of human neurons.', 'It is also known as neural networks or neural nets.', 'An artificial neural network’s input layer, which is the first layer, receives input from external sources and passes it on to the hidden layer, which is the second layer.', 'Each neuron in the hidden layer gets information from the neurons in the previous layer, computes the weighted total, and then transfers it to the neurons in the next layer.', 'These connections are weighted, which means that the impacts of the inputs from the preceding layer are more or less optimized by giving each input a distinct weight.', 'These weights are then adjusted during the training process to enhance the performance of the model.', 'Artificial neurons, also known as units, are found in artificial neural networks.', 'The whole Artificial Neural Network is composed of these artificial neurons, which are arranged in a series of layers.', 'The complexities of neural networks will depend on the complexities of the underlying patterns in the dataset whether a layer has a dozen units or millions of units.', 'Commonly, Artificial Neural Network has an input layer, an output layer as well as hidden layers.', 'The input layer receives data from the outside world which the neural network needs to analyze or learn about.', 'In a fully connected artificial neural network, there is an input layer and one or more hidden layers connected one after the other.', 'Each neuron receives input from the previous layer neurons or the input layer.', 'The output of one neuron becomes the input to other neurons in the next layer of the network, and this process continues until the final layer produces the output of the network.', 'Then, after passing through one or more hidden layers, this data is transformed into valuable data for the output layer.', 'Finally, the output layer provides an output in the form of an artificial neural network’s response to the data that comes in.', 'Units are linked to one another from one layer to another in the bulk of neural networks.', 'Each of these links has weights that control how much one unit influences another.', 'The neural network learns more and more about the data as it moves from one unit to another, ultimately producing an output from the output layer.', 'Difference between Machine Learning and Deep Learning :\\n\\nmachine learning and deep learning both are subsets of artificial intelligence but there are many similarities and differences between them.', 'Machine Learning Deep Learning Apply statistical algorithms to learn the hidden patterns and relationships in the dataset.', 'Uses artificial neural network architecture to learn the hidden patterns and relationships in the dataset.', 'Can work on the smaller amount of dataset Requires the larger volume of dataset compared to machine learning Better for the low-label task.', 'Better for complex task like image processing, natural language processing, etc.', 'Takes less time to train the model.', 'Takes more time to train the model.', 'A model is created by relevant features which are manually extracted from images to detect an object in the image.', 'Relevant features are automatically extracted from images.', 'It is an end-to-end learning process.', 'Less complex and easy to interpret the result.', 'More complex, it works like the black box interpretations of the result are not easy.', 'It can work on the CPU or requires less computing power as compared to deep learning.', 'It requires a high-performance computer with GPU.', 'Types of neural networks\\n\\nDeep Learning models are able to automatically learn features from the data, which makes them well-suited for tasks such as image recognition, speech recognition, and natural language processing.', 'The most widely used architectures in deep learning are feedforward neural networks, convolutional neural networks (CNNs), and recurrent neural networks (RNNs).', 'Feedforward neural networks (FNNs) are the simplest type of ANN, with a linear flow of information through the network.', 'FNNs have been widely used for tasks such as image classification, speech recognition, and natural language processing.', 'Convolutional Neural Networks (CNNs) are specifically for image and video recognition tasks.', 'CNNs are able to automatically learn features from the images, which makes them well-suited for tasks such as image classification, object detection, and image segmentation.', 'Recurrent Neural Networks (RNNs) are a type of neural network that is able to process sequential data, such as time series and natural language.', 'RNNs are able to maintain an internal state that captures information about the previous inputs, which makes them well-suited for tasks such as speech recognition, natural language processing, and language translation.', 'Applications of Deep Learning :\\n\\nThe main applications of deep learning can be divided into computer vision, natural language processing (NLP), and reinforcement learning.', 'In computer vision, Deep learning models can enable machines to identify and understand visual data.', 'Some of the main applications of deep learning in computer vision include:\\n\\nObject detection and recognition: Deep learning model can be used to identify and locate objects within images and videos, making it possible for machines to perform tasks such as self-driving cars, surveillance, and robotics.', 'Deep learning model can be used to identify and locate objects within images and videos, making it possible for machines to perform tasks such as self-driving cars, surveillance, and robotics.', 'Image classification: Deep learning models can be used to classify images into categories such as animals, plants, and buildings.', 'This is used in applications such as medical imaging, quality control, and image retrieval.', 'Deep learning models can be used to classify images into categories such as animals, plants, and buildings.', 'This is used in applications such as medical imaging, quality control, and image retrieval.', 'Image segmentation: Deep learning models can be used for image segmentation into different regions, making it possible to identify specific features within images.', 'In NLP, the Deep learning model can enable machines to understand and generate human language.', 'Some of the main applications of deep learning in NLP include:\\n\\nAutomatic Text Generation – Deep learning model can learn the corpus of text and new text like summaries, essays can be automatically generated using these trained models.', '– Deep learning model can learn the corpus of text and new text like summaries, essays can be automatically generated using these trained models.', 'Language translation: Deep learning models can translate text from one language to another, making it possible to communicate with people from different linguistic backgrounds.', 'Deep learning models can translate text from one language to another, making it possible to communicate with people from different linguistic backgrounds.', 'Sentiment analysis: Deep learning models can analyze the sentiment of a piece of text, making it possible to determine whether the text is positive, negative, or neutral.', 'This is used in applications such as customer service, social media monitoring, and political analysis.', 'Deep learning models can analyze the sentiment of a piece of text, making it possible to determine whether the text is positive, negative, or neutral.', 'This is used in applications such as customer service, social media monitoring, and political analysis.', 'Speech recognition: Deep learning models can recognize and transcribe spoken words, making it possible to perform tasks such as speech-to-text conversion, voice search, and voice-controlled devices.', 'In reinforcement learning, deep learning works as training agents to take action in an environment to maximize a reward.', 'Some of the main applications of deep learning in reinforcement learning include:\\n\\nGame playing: Deep reinforcement learning models have been able to beat human experts at games such as Go, Chess, and Atari.', 'Deep reinforcement learning models have been able to beat human experts at games such as Go, Chess, and Atari.', 'Robotics: Deep reinforcement learning models can be used to train robots to perform complex tasks such as grasping objects, navigation, and manipulation.', 'Deep reinforcement learning models can be used to train robots to perform complex tasks such as grasping objects, navigation, and manipulation.', 'Control systems: Deep reinforcement learning models can be used to control complex systems such as power grids, traffic management, and supply chain optimization.', 'Challenges in Deep Learning\\n\\nDeep learning has made significant advancements in various fields, but there are still some challenges that need to be addressed.', 'Here are some of the main challenges in deep learning:\\n\\nData availability: It requires large amounts of data to learn from.', 'For using deep learning it’s a big concern to gather as much data for training.', 'Computational Resources: For training the deep learning model, it is computationally expensive because it requires specialized hardware like GPUs and TPUs.', 'Time-consuming: While working on sequential data depending on the computational resource it can take very large even in days or months.', 'Interpretability: Deep learning models are complex, it works like a black box.', 'it is very difficult to interpret the result.', 'Overfitting: when the model is trained again and again, it becomes too specialized for the training data, leading to overfitting and poor performance on new data.', 'Advantages of Deep Learning:\\n\\nHigh accuracy: Deep Learning algorithms can achieve state-of-the-art performance in various tasks, such as image recognition and natural language processing.', 'Automated feature engineering: Deep Learning algorithms can automatically discover and learn relevant features from data without the need for manual feature engineering.', 'Scalability: Deep Learning models can scale to handle large and complex datasets, and can learn from massive amounts of data.', 'Flexibility: Deep Learning models can be applied to a wide range of tasks and can handle various types of data, such as images, text, and speech.', 'Continual improvement: Deep Learning models can continually improve their performance as more data becomes available.', 'Disadvantages of Deep Learning:\\n\\nHigh computational requirements: Deep Learning models require large amounts of data and computational resources to train and optimize.', 'Requires large amounts of labeled data: Deep Learning models often require a large amount of labeled data for training, which can be expensive and time- consuming to acquire.', 'Interpretability: Deep Learning models can be challenging to interpret, making it difficult to understand how they make decisions.', 'Overfitting: Deep Learning models can sometimes overfit to the training data, resulting in poor performance on new and unseen data.', 'Black-box nature: Deep Learning models are often treated as black boxes, making it difficult to understand how they work and how they arrived at their predictions.', 'In summary, while Deep Learning offers many advantages, including high accuracy and scalability, it also has some disadvantages, such as high computational requirements, the need for large amounts of labeled data, and interpretability challenges.', 'These limitations need to be carefully considered when deciding whether to use Deep Learning for a specific task.', \"Don't miss your chance to ride the wave of the data revolution!\", 'Every industry is scaling new heights by tapping into the power of data.', 'Sharpen your skills and become a part of the hottest trend in the 21st century.', 'Dive into the future of technology - explore the Complete Machine Learning and Data Science Program by GeeksforGeeks and stay ahead of the curve.', 'Last Updated : 14 Apr, 2023 Like Article Save Article\\n\\nShare your thoughts in the comments Add Your Comment']\n"
          ]
        }
      ]
    },
    {
      "cell_type": "code",
      "source": [
        "# A function to return a random greeting response to a user's greeting\n",
        "def greeting_response(text):\n",
        "    text = text.lower()\n",
        "    # Bots greeting response\n",
        "    bot_greeting = ['hi', 'hello', 'hey', 'greeting']\n",
        "\n",
        "    for word in text.split():\n",
        "        if word in bot_greeting:\n",
        "            return random.choice(bot_greeting)"
      ],
      "metadata": {
        "id": "lwRoWslQuWf0"
      },
      "execution_count": null,
      "outputs": []
    },
    {
      "cell_type": "code",
      "source": [
        "def index_sort(list_var):\n",
        "    length = len(list_var)\n",
        "    list_index = list(range(0, length))\n",
        "\n",
        "    x = list_var\n",
        "    for i in range(length):\n",
        "        for j in range(length):\n",
        "            if x[list_index[i]] > x[list_index[j]]:\n",
        "                # swap\n",
        "                temp = list_index[i]\n",
        "                list_index[i] = list_index[j]\n",
        "                list_index[j] = temp\n",
        "    return list_index"
      ],
      "metadata": {
        "id": "RRjB8kdhubK0"
      },
      "execution_count": null,
      "outputs": []
    },
    {
      "cell_type": "code",
      "source": [
        "# Create the bots response\n",
        "def bot_response(user_input):\n",
        "    user_input = user_input.lower()\n",
        "    sentence_list.append(user_input)\n",
        "    bot_response = ''\n",
        "    cm = CountVectorizer().fit_transform(sentence_list)\n",
        "    similarity_scores = cosine_similarity(cm[-1], cm)\n",
        "    similarity_scores_list = similarity_scores.flatten()\n",
        "    index = index_sort(similarity_scores_list)\n",
        "    index = index[1:]\n",
        "    response_flag = 0\n",
        "\n",
        "    j = 0\n",
        "    for i in range(len(index)):\n",
        "        if similarity_scores_list[index[i]] > 0.0:\n",
        "            bot_response = bot_response + ' ' + sentence_list[index[i]]  # Fix: Change bot_responses to bot_response\n",
        "            response_flag = 1\n",
        "            j = j + 1\n",
        "        if j > 2:\n",
        "            break\n",
        "    if response_flag == 0:\n",
        "        bot_response = bot_response + \" I apologize\"\n",
        "    sentence_list.remove(user_input)\n",
        "    return bot_response"
      ],
      "metadata": {
        "id": "TDiaF3JOui9j"
      },
      "execution_count": null,
      "outputs": []
    },
    {
      "cell_type": "code",
      "source": [
        "\n",
        "# start the chat\n",
        "print('Bot: I am a chat bot for deep learning.')\n",
        "exit_list = ['exit', 'see you later', 'bye']\n",
        "\n",
        "while True:\n",
        "    user_input = input()\n",
        "    if user_input.lower() in exit_list:\n",
        "        print('Bot: Chat with you later.')\n",
        "        break\n",
        "    else:\n",
        "        if greeting_response(user_input) is not None:\n",
        "            print('Bot: ' + greeting_response(user_input))\n",
        "        else:\n",
        "            print('Bot: ' + bot_response(user_input))"
      ],
      "metadata": {
        "colab": {
          "base_uri": "https://localhost:8080/"
        },
        "id": "jS6nvUm1umls",
        "outputId": "79f72925-ffc7-4693-c3ec-cacaaacccffe"
      },
      "execution_count": null,
      "outputs": [
        {
          "output_type": "stream",
          "name": "stdout",
          "text": [
            "Bot: I am a chat bot for deep learning.\n",
            "hi\n",
            "Bot: hello\n",
            "Data availability\n",
            "Bot:  Here are some of the main challenges in deep learning:\n",
            "\n",
            "Data availability: It requires large amounts of data to learn from. These networks can learn complex representations of data by discovering hierarchical patterns and features in the data. Overfitting: Deep Learning models can sometimes overfit to the training data, resulting in poor performance on new and unseen data.\n",
            "day\n",
            "Bot:  I apologize\n",
            "bye\n",
            "Bot: Chat with you later.\n"
          ]
        }
      ]
    }
  ]
}